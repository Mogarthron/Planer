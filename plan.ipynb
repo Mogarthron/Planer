{
 "cells": [
  {
   "cell_type": "code",
   "execution_count": 1,
   "metadata": {},
   "outputs": [],
   "source": [
    "import plotly.express as px\n",
    "import pandas as pd\n",
    "from datetime import datetime as dt, timedelta\n",
    "import json"
   ]
  },
  {
   "cell_type": "code",
   "execution_count": 2,
   "metadata": {},
   "outputs": [],
   "source": [
    "stanowiska = [{}]"
   ]
  },
  {
   "cell_type": "code",
   "execution_count": 3,
   "metadata": {},
   "outputs": [
    {
     "data": {
      "text/html": [
       "<div>\n",
       "<style scoped>\n",
       "    .dataframe tbody tr th:only-of-type {\n",
       "        vertical-align: middle;\n",
       "    }\n",
       "\n",
       "    .dataframe tbody tr th {\n",
       "        vertical-align: top;\n",
       "    }\n",
       "\n",
       "    .dataframe thead th {\n",
       "        text-align: right;\n",
       "    }\n",
       "</style>\n",
       "<table border=\"1\" class=\"dataframe\">\n",
       "  <thead>\n",
       "    <tr style=\"text-align: right;\">\n",
       "      <th></th>\n",
       "      <th>Nazwa</th>\n",
       "      <th>idop</th>\n",
       "      <th>operacja_nazwa</th>\n",
       "      <th>norma</th>\n",
       "      <th>asortyment_powiazany</th>\n",
       "      <th>id_wejsciowe</th>\n",
       "      <th>opuznienie startu nastepnej operacji</th>\n",
       "      <th>przelicznik z poprzedniej operacji</th>\n",
       "      <th>id_wyjsciowe</th>\n",
       "      <th>rodzaj_startu</th>\n",
       "      <th>start_przy_zapasie_z_porzedniej_operacji</th>\n",
       "    </tr>\n",
       "  </thead>\n",
       "  <tbody>\n",
       "    <tr>\n",
       "      <th>0</th>\n",
       "      <td>Prod_1</td>\n",
       "      <td>100</td>\n",
       "      <td>przegotowanie form</td>\n",
       "      <td>65min/10000szt</td>\n",
       "      <td>Asor_1</td>\n",
       "      <td>0</td>\n",
       "      <td>0</td>\n",
       "      <td>None</td>\n",
       "      <td>200</td>\n",
       "      <td>None</td>\n",
       "      <td>None</td>\n",
       "    </tr>\n",
       "    <tr>\n",
       "      <th>1</th>\n",
       "      <td>Prod_1</td>\n",
       "      <td>200</td>\n",
       "      <td>formowanie reczne</td>\n",
       "      <td>100szt/h</td>\n",
       "      <td>Asor_1</td>\n",
       "      <td>100</td>\n",
       "      <td>130m</td>\n",
       "      <td>1</td>\n",
       "      <td>400</td>\n",
       "      <td>None</td>\n",
       "      <td>None</td>\n",
       "    </tr>\n",
       "    <tr>\n",
       "      <th>2</th>\n",
       "      <td>Prod_1</td>\n",
       "      <td>300</td>\n",
       "      <td>giecie preta</td>\n",
       "      <td>400szt/h</td>\n",
       "      <td>Asor_1</td>\n",
       "      <td>0</td>\n",
       "      <td>0</td>\n",
       "      <td>None</td>\n",
       "      <td>400</td>\n",
       "      <td>None</td>\n",
       "      <td>None</td>\n",
       "    </tr>\n",
       "    <tr>\n",
       "      <th>3</th>\n",
       "      <td>Prod_1</td>\n",
       "      <td>400</td>\n",
       "      <td>klenie uszek reczne</td>\n",
       "      <td>120szt/h</td>\n",
       "      <td>Asor_1</td>\n",
       "      <td>200</td>\n",
       "      <td>0</td>\n",
       "      <td>1</td>\n",
       "      <td>600</td>\n",
       "      <td>None</td>\n",
       "      <td>None</td>\n",
       "    </tr>\n",
       "    <tr>\n",
       "      <th>4</th>\n",
       "      <td>Prod_1</td>\n",
       "      <td>400</td>\n",
       "      <td>klenie uszek reczne</td>\n",
       "      <td>120szt/h</td>\n",
       "      <td>Asor_1</td>\n",
       "      <td>300</td>\n",
       "      <td>0</td>\n",
       "      <td>1</td>\n",
       "      <td>600</td>\n",
       "      <td>None</td>\n",
       "      <td>None</td>\n",
       "    </tr>\n",
       "    <tr>\n",
       "      <th>5</th>\n",
       "      <td>Prod_1</td>\n",
       "      <td>500</td>\n",
       "      <td>ciecie kartonu</td>\n",
       "      <td>130kpl/h</td>\n",
       "      <td>Szklanka Caffelatte 200ml kpl 6szt</td>\n",
       "      <td>0</td>\n",
       "      <td>0</td>\n",
       "      <td>None</td>\n",
       "      <td>600</td>\n",
       "      <td>None</td>\n",
       "      <td>None</td>\n",
       "    </tr>\n",
       "    <tr>\n",
       "      <th>6</th>\n",
       "      <td>Prod_1</td>\n",
       "      <td>600</td>\n",
       "      <td>pakowanie</td>\n",
       "      <td>250kpl/h</td>\n",
       "      <td>Szklanka Caffelatte 200ml kpl 6szt</td>\n",
       "      <td>400</td>\n",
       "      <td>0</td>\n",
       "      <td>6szt/kpl</td>\n",
       "      <td>700</td>\n",
       "      <td>None</td>\n",
       "      <td>None</td>\n",
       "    </tr>\n",
       "    <tr>\n",
       "      <th>7</th>\n",
       "      <td>Prod_1</td>\n",
       "      <td>600</td>\n",
       "      <td>pakowanie</td>\n",
       "      <td>250kpl/h</td>\n",
       "      <td>Szklanka Caffelatte 200ml kpl 6szt</td>\n",
       "      <td>500</td>\n",
       "      <td>0</td>\n",
       "      <td>1</td>\n",
       "      <td>700</td>\n",
       "      <td>None</td>\n",
       "      <td>None</td>\n",
       "    </tr>\n",
       "    <tr>\n",
       "      <th>8</th>\n",
       "      <td>Prod_1</td>\n",
       "      <td>700</td>\n",
       "      <td>zaladunek</td>\n",
       "      <td>600kpl/h</td>\n",
       "      <td>Szklanka Caffelatte 200ml kpl 6szt</td>\n",
       "      <td>600</td>\n",
       "      <td>0</td>\n",
       "      <td>1</td>\n",
       "      <td>700</td>\n",
       "      <td>None</td>\n",
       "      <td>None</td>\n",
       "    </tr>\n",
       "  </tbody>\n",
       "</table>\n",
       "</div>"
      ],
      "text/plain": [
       "    Nazwa  idop       operacja_nazwa           norma  \\\n",
       "0  Prod_1   100   przegotowanie form  65min/10000szt   \n",
       "1  Prod_1   200    formowanie reczne        100szt/h   \n",
       "2  Prod_1   300         giecie preta        400szt/h   \n",
       "3  Prod_1   400  klenie uszek reczne        120szt/h   \n",
       "4  Prod_1   400  klenie uszek reczne        120szt/h   \n",
       "5  Prod_1   500       ciecie kartonu        130kpl/h   \n",
       "6  Prod_1   600            pakowanie        250kpl/h   \n",
       "7  Prod_1   600            pakowanie        250kpl/h   \n",
       "8  Prod_1   700            zaladunek        600kpl/h   \n",
       "\n",
       "                 asortyment_powiazany  id_wejsciowe  \\\n",
       "0                              Asor_1             0   \n",
       "1                              Asor_1           100   \n",
       "2                              Asor_1             0   \n",
       "3                              Asor_1           200   \n",
       "4                              Asor_1           300   \n",
       "5  Szklanka Caffelatte 200ml kpl 6szt             0   \n",
       "6  Szklanka Caffelatte 200ml kpl 6szt           400   \n",
       "7  Szklanka Caffelatte 200ml kpl 6szt           500   \n",
       "8  Szklanka Caffelatte 200ml kpl 6szt           600   \n",
       "\n",
       "  opuznienie startu nastepnej operacji przelicznik z poprzedniej operacji  \\\n",
       "0                                    0                               None   \n",
       "1                                 130m                                  1   \n",
       "2                                    0                               None   \n",
       "3                                    0                                  1   \n",
       "4                                    0                                  1   \n",
       "5                                    0                               None   \n",
       "6                                    0                           6szt/kpl   \n",
       "7                                    0                                  1   \n",
       "8                                    0                                  1   \n",
       "\n",
       "   id_wyjsciowe rodzaj_startu start_przy_zapasie_z_porzedniej_operacji  \n",
       "0           200          None                                     None  \n",
       "1           400          None                                     None  \n",
       "2           400          None                                     None  \n",
       "3           600          None                                     None  \n",
       "4           600          None                                     None  \n",
       "5           600          None                                     None  \n",
       "6           700          None                                     None  \n",
       "7           700          None                                     None  \n",
       "8           700          None                                     None  "
      ]
     },
     "execution_count": 3,
     "metadata": {},
     "output_type": "execute_result"
    }
   ],
   "source": [
    "with open(\"technologia.json\", \"r\") as f:\n",
    "    tehnologia = json.loads(f.read())[\"tech\"]\n",
    "\n",
    "tech = pd.DataFrame(tehnologia)\n",
    "tech"
   ]
  },
  {
   "cell_type": "code",
   "execution_count": 4,
   "metadata": {},
   "outputs": [
    {
     "data": {
      "text/plain": [
       "{'Numer_zamowienia': '2022_1',\n",
       " 'Produkt': 'Prod_1',\n",
       " 'Ilosc': 1500,\n",
       " 'Data_dostawy': datetime.datetime(2023, 4, 15, 13, 0)}"
      ]
     },
     "execution_count": 4,
     "metadata": {},
     "output_type": "execute_result"
    }
   ],
   "source": [
    "zamowienia = [\n",
    "   dict(Numer_zamowienia= \"2022_1\", Produkt= \"Prod_1\", Ilosc=1500, Data_dostawy=dt(2023,4,15,13)),\n",
    "   # dict(Numer_zamowinie= \"Zam0\", Produkt= \"Prod_2\", Ilosc=3000, Data_dostawy=dt(2023,5,15)),\n",
    "   dict(Numer_zamowinie= \"2022_2\", Produkt= \"Prod_1\", Ilosc=3000, Data_dostawy=dt(2023,4,25,13)),\n",
    "   # dict(Numer_zamowinie= \"Zam2\", Produkt= \"Prod_2\", Ilosc=5000, Data_dostawy=dt(2023,5,15)),\n",
    "   dict(Numer_zamowinie= \"2022_3\", Produkt= \"Prod_1\", Ilosc=3000, Data_dostawy=dt(2023,9,15,13)),\n",
    "]\n",
    "zamowienia[0]"
   ]
  },
  {
   "cell_type": "code",
   "execution_count": 5,
   "metadata": {},
   "outputs": [
    {
     "data": {
      "text/html": [
       "<div>\n",
       "<style scoped>\n",
       "    .dataframe tbody tr th:only-of-type {\n",
       "        vertical-align: middle;\n",
       "    }\n",
       "\n",
       "    .dataframe tbody tr th {\n",
       "        vertical-align: top;\n",
       "    }\n",
       "\n",
       "    .dataframe thead th {\n",
       "        text-align: right;\n",
       "    }\n",
       "</style>\n",
       "<table border=\"1\" class=\"dataframe\">\n",
       "  <thead>\n",
       "    <tr style=\"text-align: right;\">\n",
       "      <th></th>\n",
       "      <th>operacja_nazwa</th>\n",
       "      <th>norma</th>\n",
       "      <th>przelicznik z poprzedniej operacji</th>\n",
       "      <th>id_wejsciowe</th>\n",
       "      <th>id_wyjsciowe</th>\n",
       "      <th>ilosc</th>\n",
       "      <th>jednostka</th>\n",
       "    </tr>\n",
       "    <tr>\n",
       "      <th>idop</th>\n",
       "      <th></th>\n",
       "      <th></th>\n",
       "      <th></th>\n",
       "      <th></th>\n",
       "      <th></th>\n",
       "      <th></th>\n",
       "      <th></th>\n",
       "    </tr>\n",
       "  </thead>\n",
       "  <tbody>\n",
       "    <tr>\n",
       "      <th>100</th>\n",
       "      <td>przegotowanie form</td>\n",
       "      <td>65min/10000szt</td>\n",
       "      <td>None</td>\n",
       "      <td>0</td>\n",
       "      <td>200</td>\n",
       "      <td>65</td>\n",
       "      <td>min</td>\n",
       "    </tr>\n",
       "    <tr>\n",
       "      <th>200</th>\n",
       "      <td>formowanie reczne</td>\n",
       "      <td>100szt/h</td>\n",
       "      <td>1</td>\n",
       "      <td>100</td>\n",
       "      <td>400</td>\n",
       "      <td>100</td>\n",
       "      <td>szt</td>\n",
       "    </tr>\n",
       "    <tr>\n",
       "      <th>300</th>\n",
       "      <td>giecie preta</td>\n",
       "      <td>400szt/h</td>\n",
       "      <td>None</td>\n",
       "      <td>0</td>\n",
       "      <td>400</td>\n",
       "      <td>400</td>\n",
       "      <td>szt</td>\n",
       "    </tr>\n",
       "    <tr>\n",
       "      <th>400</th>\n",
       "      <td>klenie uszek reczne</td>\n",
       "      <td>120szt/h</td>\n",
       "      <td>1</td>\n",
       "      <td>200</td>\n",
       "      <td>600</td>\n",
       "      <td>120</td>\n",
       "      <td>szt</td>\n",
       "    </tr>\n",
       "    <tr>\n",
       "      <th>400</th>\n",
       "      <td>klenie uszek reczne</td>\n",
       "      <td>120szt/h</td>\n",
       "      <td>1</td>\n",
       "      <td>300</td>\n",
       "      <td>600</td>\n",
       "      <td>120</td>\n",
       "      <td>szt</td>\n",
       "    </tr>\n",
       "    <tr>\n",
       "      <th>500</th>\n",
       "      <td>ciecie kartonu</td>\n",
       "      <td>130kpl/h</td>\n",
       "      <td>None</td>\n",
       "      <td>0</td>\n",
       "      <td>600</td>\n",
       "      <td>130</td>\n",
       "      <td>kpl</td>\n",
       "    </tr>\n",
       "    <tr>\n",
       "      <th>600</th>\n",
       "      <td>pakowanie</td>\n",
       "      <td>250kpl/h</td>\n",
       "      <td>6szt/kpl</td>\n",
       "      <td>400</td>\n",
       "      <td>700</td>\n",
       "      <td>250</td>\n",
       "      <td>kpl</td>\n",
       "    </tr>\n",
       "    <tr>\n",
       "      <th>600</th>\n",
       "      <td>pakowanie</td>\n",
       "      <td>250kpl/h</td>\n",
       "      <td>1</td>\n",
       "      <td>500</td>\n",
       "      <td>700</td>\n",
       "      <td>250</td>\n",
       "      <td>kpl</td>\n",
       "    </tr>\n",
       "    <tr>\n",
       "      <th>700</th>\n",
       "      <td>zaladunek</td>\n",
       "      <td>600kpl/h</td>\n",
       "      <td>1</td>\n",
       "      <td>600</td>\n",
       "      <td>700</td>\n",
       "      <td>600</td>\n",
       "      <td>kpl</td>\n",
       "    </tr>\n",
       "  </tbody>\n",
       "</table>\n",
       "</div>"
      ],
      "text/plain": [
       "           operacja_nazwa           norma przelicznik z poprzedniej operacji  \\\n",
       "idop                                                                           \n",
       "100    przegotowanie form  65min/10000szt                               None   \n",
       "200     formowanie reczne        100szt/h                                  1   \n",
       "300          giecie preta        400szt/h                               None   \n",
       "400   klenie uszek reczne        120szt/h                                  1   \n",
       "400   klenie uszek reczne        120szt/h                                  1   \n",
       "500        ciecie kartonu        130kpl/h                               None   \n",
       "600             pakowanie        250kpl/h                           6szt/kpl   \n",
       "600             pakowanie        250kpl/h                                  1   \n",
       "700             zaladunek        600kpl/h                                  1   \n",
       "\n",
       "      id_wejsciowe  id_wyjsciowe  ilosc jednostka  \n",
       "idop                                               \n",
       "100              0           200     65       min  \n",
       "200            100           400    100       szt  \n",
       "300              0           400    400       szt  \n",
       "400            200           600    120       szt  \n",
       "400            300           600    120       szt  \n",
       "500              0           600    130       kpl  \n",
       "600            400           700    250       kpl  \n",
       "600            500           700    250       kpl  \n",
       "700            600           700    600       kpl  "
      ]
     },
     "execution_count": 5,
     "metadata": {},
     "output_type": "execute_result"
    }
   ],
   "source": [
    "normy = pd.DataFrame(tech[tech[\"Nazwa\"] == zamowienia[0][\"Produkt\"]][[\"idop\",\"operacja_nazwa\", \"norma\", \"przelicznik z poprzedniej operacji\", \"id_wejsciowe\", \"id_wyjsciowe\"]])\n",
    "\n",
    "normy[\"ilosc\"] = normy[\"norma\"].apply(lambda x: int(x.split(\"/\")[0][:-3]))\n",
    "normy[\"jednostka\"] = normy[\"norma\"].apply(lambda x: x.split(\"/\")[0][-3:])\n",
    "normy.set_index(\"idop\", inplace=True)\n",
    "normy"
   ]
  },
  {
   "cell_type": "code",
   "execution_count": null,
   "metadata": {},
   "outputs": [],
   "source": []
  },
  {
   "cell_type": "code",
   "execution_count": 18,
   "metadata": {},
   "outputs": [
    {
     "data": {
      "text/plain": [
       "[{'Zamowienie': '2022_1',\n",
       "  'Produkt': 'Prod_1',\n",
       "  'Operacja': 'zaladunek',\n",
       "  'stanowisko': None,\n",
       "  '_start': datetime.datetime(2023, 3, 30, 0, 0),\n",
       "  '_end': None,\n",
       "  'ilosc': 231},\n",
       " {'Zamowienie': '2022_1',\n",
       "  'Produkt': 'Prod_1',\n",
       "  'Operacja': 'pakowanie',\n",
       "  'stanowisko': None,\n",
       "  '_start': None,\n",
       "  '_end': None},\n",
       " {'Zamowienie': '2022_1',\n",
       "  'Produkt': 'Prod_1',\n",
       "  'Operacja': 'ciecie kartonu',\n",
       "  'stanowisko': None,\n",
       "  '_start': None,\n",
       "  '_end': None},\n",
       " {'Zamowienie': '2022_1',\n",
       "  'Produkt': 'Prod_1',\n",
       "  'Operacja': 'klenie uszek reczne',\n",
       "  'stanowisko': None,\n",
       "  '_start': None,\n",
       "  '_end': None},\n",
       " {'Zamowienie': '2022_1',\n",
       "  'Produkt': 'Prod_1',\n",
       "  'Operacja': 'giecie preta',\n",
       "  'stanowisko': None,\n",
       "  '_start': None,\n",
       "  '_end': None},\n",
       " {'Zamowienie': '2022_1',\n",
       "  'Produkt': 'Prod_1',\n",
       "  'Operacja': 'formowanie reczne',\n",
       "  'stanowisko': None,\n",
       "  '_start': None,\n",
       "  '_end': None},\n",
       " {'Zamowienie': '2022_1',\n",
       "  'Produkt': 'Prod_1',\n",
       "  'Operacja': 'przegotowanie form',\n",
       "  'stanowisko': None,\n",
       "  '_start': None,\n",
       "  '_end': None}]"
      ]
     },
     "execution_count": 18,
     "metadata": {},
     "output_type": "execute_result"
    }
   ],
   "source": [
    "def ustaw_operacje(zam, technologia, kierunek): \n",
    "    \"\"\"\n",
    "    zam -> pozycja zamowienia\n",
    "\n",
    "    technologia -> kopia DataFrame z odpowiednia technologia\n",
    "    \n",
    "    kierunek -> kierunek przydzilu operacji \n",
    "                1: do przodu\n",
    "                -1: do tylu\n",
    "    \n",
    "    \"\"\"\n",
    "    op = list()\n",
    "    \n",
    "    for _idop in technologia.idop.unique()[::kierunek]:\n",
    "\n",
    "        if kierunek == -1:\n",
    "            \n",
    "            op.append(\n",
    "    \n",
    "             dict(Zamowienie=zam[\"Numer_zamowienia\"], \n",
    "             Produkt=list(technologia.Nazwa.unique())[0], \n",
    "             Operacja= technologia[technologia.idop == _idop].operacja_nazwa.unique()[0],\n",
    "             stanowisko=None, \n",
    "             _start=None, _end=None)\n",
    "            \n",
    "            )\n",
    "    \n",
    "    \n",
    "    \n",
    "    \n",
    "    \n",
    "    return op\n",
    "\n",
    "pd.DataFrame(ustaw_operacje(zamowienia[0],tech[tech.Nazwa == \"Prod_1\"].copy(),-1))\n",
    "# o[0][\"_start\"] = dt(2023,3,30)\n",
    "# o[0][\"ilosc\"] = 231\n",
    "# o\n"
   ]
  },
  {
   "cell_type": "code",
   "execution_count": null,
   "metadata": {},
   "outputs": [],
   "source": []
  },
  {
   "cell_type": "code",
   "execution_count": 7,
   "metadata": {},
   "outputs": [],
   "source": [
    "zam1 = \"2023_1\"\n",
    "koniec_ostaniej_operacji = zamowienia[0][\"Data_dostawy\"]-timedelta(3)\n",
    "start_zal = koniec_ostaniej_operacji - timedelta(hours=zamowienia[0][\"Ilosc\"]/normy.iloc[-1][\"ilosc\"])\n",
    "# koniec_pak =  \n",
    "zal1 = [start_zal, koniec_ostaniej_operacji]\n",
    "pak1 = [zal1[0]-timedelta(hours=(zamowienia[0][\"Ilosc\"]/250)),zal1[0]]\n",
    "cie_k1 = [pak1[0] - timedelta(hours=(zamowienia[0][\"Ilosc\"]/130)) ,pak1[0]]\n",
    "klu_r1 = [pak1[0]-timedelta(hours=25),pak1[0]]\n",
    "klu_r2 = [pak1[0]-timedelta(hours=25),pak1[0]]\n",
    "klu_r3 = [pak1[0]-timedelta(hours=25),pak1[0]]\n",
    "gip_r1 = [klu_r1[0]-timedelta(hours=(1500*6/400)), klu_r1[0]]\n",
    "frw1_s1 = [gip_r1[0]-timedelta(hours=750*6/100),gip_r1[0]]\n",
    "frw1_s2 = [gip_r1[0]-timedelta(hours=750*6/100),gip_r1[0]]\n",
    "\n",
    "to1 = [\n",
    "   dict(Zamowienie=zam1, Produkt=\"Prod_1\", Operacja=\"zaladunek\", stanowisko=\"zaladunek_1\", \n",
    "        Start=zal1[0], End=zal1[1],Ilosc=\"\"),\n",
    "     \n",
    "   dict(Zamowienie=zam1, Produkt=\"Prod_1\", Operacja=\"pakowanie\", stanowisko=\"pakowanie h1s1\", \n",
    "        Start=pak1[0], End=pak1[1],Ilosc=\"1500kpl\"),\n",
    "    \n",
    "   dict(Zamowienie=zam1, Produkt=\"Prod_1\", Operacja=\"ciecie kartonu\", stanowisko=\"ciecie kartonu\", \n",
    "        Start=cie_k1[0], End=cie_k1[1],Ilosc=\"1500kpl\"),\n",
    "        \n",
    "   dict(Zamowienie=zam1, Produkt=\"Szklanka late 200ml\", Operacja=\"klejenie uszek reczne\", stanowisko=\"klejnie uszek r3\", \n",
    "        Start=klu_r1[0], End=klu_r1[1],Ilosc=\"3000szt\"),\n",
    "\n",
    "   dict(Zamowienie=zam1, Produkt=\"Szklanka late 200ml\", Operacja=\"klejenie uszek reczne\", stanowisko=\"klejnie uszek r2\", \n",
    "        Start=klu_r1[0], End=klu_r1[1],Ilosc=\"3000szt\"),\n",
    "\n",
    "   dict(Zamowienie=zam1, Produkt=\"Szklanka late 200ml\", Operacja=\"klejenie uszek reczne\", stanowisko=\"klejnie uszek r1\", \n",
    "        Start=klu_r1[0], End=klu_r1[1],Ilosc=\"3000szt\"),\n",
    "    \n",
    "   dict(Zamowienie=zam1, Produkt=\"Pret 5mm bezbarwny\", Operacja=\"giecie preta\", stanowisko=\"giecie preta\", \n",
    "        Start=gip_r1[0], End=gip_r1[1],Ilosc=\"9000szt\"),\n",
    "   \n",
    "   dict(Zamowienie=zam1, Produkt=\"Szklanka late 200ml\", Operacja=\"formowanie reczne\", stanowisko=\"w1s2\", \n",
    "        Start=frw1_s1[0], End=frw1_s1[1],Ilosc=\"3000szt\"),    \n",
    "\n",
    "   dict(Zamowienie=zam1, Produkt=\"Szklanka late 200ml\", Operacja=\"formowanie reczne\", stanowisko=\"w1s1\", \n",
    "        Start=frw1_s2[0], End=frw1_s2[1],Ilosc=\"3000szt\"),    \n",
    "\n",
    "   dict(Zamowienie=zam1, Produkt=\"Szklanka late 200ml\", Operacja=\"przygotowanie formy\", stanowisko=\"formiernia\", \n",
    "        Start=frw1_s2[0]-timedelta(minutes=65*2), End=frw1_s2[0],Ilosc=\"2szt\"),    \n",
    "    ]\n"
   ]
  },
  {
   "cell_type": "code",
   "execution_count": 8,
   "metadata": {},
   "outputs": [
    {
     "data": {
      "text/html": [
       "<div>\n",
       "<style scoped>\n",
       "    .dataframe tbody tr th:only-of-type {\n",
       "        vertical-align: middle;\n",
       "    }\n",
       "\n",
       "    .dataframe tbody tr th {\n",
       "        vertical-align: top;\n",
       "    }\n",
       "\n",
       "    .dataframe thead th {\n",
       "        text-align: right;\n",
       "    }\n",
       "</style>\n",
       "<table border=\"1\" class=\"dataframe\">\n",
       "  <thead>\n",
       "    <tr style=\"text-align: right;\">\n",
       "      <th></th>\n",
       "      <th>Zamowienie</th>\n",
       "      <th>Produkt</th>\n",
       "      <th>Operacja</th>\n",
       "      <th>stanowisko</th>\n",
       "      <th>Start</th>\n",
       "      <th>End</th>\n",
       "      <th>Ilosc</th>\n",
       "      <th>Czas operacji</th>\n",
       "    </tr>\n",
       "  </thead>\n",
       "  <tbody>\n",
       "    <tr>\n",
       "      <th>0</th>\n",
       "      <td>2023_1</td>\n",
       "      <td>Prod_1</td>\n",
       "      <td>zaladunek</td>\n",
       "      <td>zaladunek_1</td>\n",
       "      <td>2023-04-12 10:30:00.000000</td>\n",
       "      <td>2023-04-12 13:00:00</td>\n",
       "      <td></td>\n",
       "      <td>0 days 02:30:00</td>\n",
       "    </tr>\n",
       "    <tr>\n",
       "      <th>1</th>\n",
       "      <td>2023_1</td>\n",
       "      <td>Prod_1</td>\n",
       "      <td>pakowanie</td>\n",
       "      <td>pakowanie h1s1</td>\n",
       "      <td>2023-04-12 04:30:00.000000</td>\n",
       "      <td>2023-04-12 10:30:00</td>\n",
       "      <td>1500kpl</td>\n",
       "      <td>0 days 06:00:00</td>\n",
       "    </tr>\n",
       "    <tr>\n",
       "      <th>2</th>\n",
       "      <td>2023_1</td>\n",
       "      <td>Prod_1</td>\n",
       "      <td>ciecie kartonu</td>\n",
       "      <td>ciecie kartonu</td>\n",
       "      <td>2023-04-11 16:57:41.538462</td>\n",
       "      <td>2023-04-12 04:30:00</td>\n",
       "      <td>1500kpl</td>\n",
       "      <td>0 days 11:32:18.461538</td>\n",
       "    </tr>\n",
       "    <tr>\n",
       "      <th>3</th>\n",
       "      <td>2023_1</td>\n",
       "      <td>Szklanka late 200ml</td>\n",
       "      <td>klejenie uszek reczne</td>\n",
       "      <td>klejnie uszek r3</td>\n",
       "      <td>2023-04-11 03:30:00.000000</td>\n",
       "      <td>2023-04-12 04:30:00</td>\n",
       "      <td>3000szt</td>\n",
       "      <td>1 days 01:00:00</td>\n",
       "    </tr>\n",
       "    <tr>\n",
       "      <th>4</th>\n",
       "      <td>2023_1</td>\n",
       "      <td>Szklanka late 200ml</td>\n",
       "      <td>klejenie uszek reczne</td>\n",
       "      <td>klejnie uszek r2</td>\n",
       "      <td>2023-04-11 03:30:00.000000</td>\n",
       "      <td>2023-04-12 04:30:00</td>\n",
       "      <td>3000szt</td>\n",
       "      <td>1 days 01:00:00</td>\n",
       "    </tr>\n",
       "    <tr>\n",
       "      <th>5</th>\n",
       "      <td>2023_1</td>\n",
       "      <td>Szklanka late 200ml</td>\n",
       "      <td>klejenie uszek reczne</td>\n",
       "      <td>klejnie uszek r1</td>\n",
       "      <td>2023-04-11 03:30:00.000000</td>\n",
       "      <td>2023-04-12 04:30:00</td>\n",
       "      <td>3000szt</td>\n",
       "      <td>1 days 01:00:00</td>\n",
       "    </tr>\n",
       "    <tr>\n",
       "      <th>6</th>\n",
       "      <td>2023_1</td>\n",
       "      <td>Pret 5mm bezbarwny</td>\n",
       "      <td>giecie preta</td>\n",
       "      <td>giecie preta</td>\n",
       "      <td>2023-04-10 05:00:00.000000</td>\n",
       "      <td>2023-04-11 03:30:00</td>\n",
       "      <td>9000szt</td>\n",
       "      <td>0 days 22:30:00</td>\n",
       "    </tr>\n",
       "    <tr>\n",
       "      <th>7</th>\n",
       "      <td>2023_1</td>\n",
       "      <td>Szklanka late 200ml</td>\n",
       "      <td>formowanie reczne</td>\n",
       "      <td>w1s2</td>\n",
       "      <td>2023-04-08 08:00:00.000000</td>\n",
       "      <td>2023-04-10 05:00:00</td>\n",
       "      <td>3000szt</td>\n",
       "      <td>1 days 21:00:00</td>\n",
       "    </tr>\n",
       "    <tr>\n",
       "      <th>8</th>\n",
       "      <td>2023_1</td>\n",
       "      <td>Szklanka late 200ml</td>\n",
       "      <td>formowanie reczne</td>\n",
       "      <td>w1s1</td>\n",
       "      <td>2023-04-08 08:00:00.000000</td>\n",
       "      <td>2023-04-10 05:00:00</td>\n",
       "      <td>3000szt</td>\n",
       "      <td>1 days 21:00:00</td>\n",
       "    </tr>\n",
       "    <tr>\n",
       "      <th>9</th>\n",
       "      <td>2023_1</td>\n",
       "      <td>Szklanka late 200ml</td>\n",
       "      <td>przygotowanie formy</td>\n",
       "      <td>formiernia</td>\n",
       "      <td>2023-04-08 05:50:00.000000</td>\n",
       "      <td>2023-04-08 08:00:00</td>\n",
       "      <td>2szt</td>\n",
       "      <td>0 days 02:10:00</td>\n",
       "    </tr>\n",
       "  </tbody>\n",
       "</table>\n",
       "</div>"
      ],
      "text/plain": [
       "  Zamowienie              Produkt               Operacja        stanowisko  \\\n",
       "0     2023_1               Prod_1              zaladunek       zaladunek_1   \n",
       "1     2023_1               Prod_1              pakowanie    pakowanie h1s1   \n",
       "2     2023_1               Prod_1         ciecie kartonu    ciecie kartonu   \n",
       "3     2023_1  Szklanka late 200ml  klejenie uszek reczne  klejnie uszek r3   \n",
       "4     2023_1  Szklanka late 200ml  klejenie uszek reczne  klejnie uszek r2   \n",
       "5     2023_1  Szklanka late 200ml  klejenie uszek reczne  klejnie uszek r1   \n",
       "6     2023_1   Pret 5mm bezbarwny           giecie preta      giecie preta   \n",
       "7     2023_1  Szklanka late 200ml      formowanie reczne              w1s2   \n",
       "8     2023_1  Szklanka late 200ml      formowanie reczne              w1s1   \n",
       "9     2023_1  Szklanka late 200ml    przygotowanie formy        formiernia   \n",
       "\n",
       "                       Start                 End    Ilosc  \\\n",
       "0 2023-04-12 10:30:00.000000 2023-04-12 13:00:00            \n",
       "1 2023-04-12 04:30:00.000000 2023-04-12 10:30:00  1500kpl   \n",
       "2 2023-04-11 16:57:41.538462 2023-04-12 04:30:00  1500kpl   \n",
       "3 2023-04-11 03:30:00.000000 2023-04-12 04:30:00  3000szt   \n",
       "4 2023-04-11 03:30:00.000000 2023-04-12 04:30:00  3000szt   \n",
       "5 2023-04-11 03:30:00.000000 2023-04-12 04:30:00  3000szt   \n",
       "6 2023-04-10 05:00:00.000000 2023-04-11 03:30:00  9000szt   \n",
       "7 2023-04-08 08:00:00.000000 2023-04-10 05:00:00  3000szt   \n",
       "8 2023-04-08 08:00:00.000000 2023-04-10 05:00:00  3000szt   \n",
       "9 2023-04-08 05:50:00.000000 2023-04-08 08:00:00     2szt   \n",
       "\n",
       "           Czas operacji  \n",
       "0        0 days 02:30:00  \n",
       "1        0 days 06:00:00  \n",
       "2 0 days 11:32:18.461538  \n",
       "3        1 days 01:00:00  \n",
       "4        1 days 01:00:00  \n",
       "5        1 days 01:00:00  \n",
       "6        0 days 22:30:00  \n",
       "7        1 days 21:00:00  \n",
       "8        1 days 21:00:00  \n",
       "9        0 days 02:10:00  "
      ]
     },
     "execution_count": 8,
     "metadata": {},
     "output_type": "execute_result"
    }
   ],
   "source": [
    "\n",
    "tabela_operacje = pd.DataFrame(to1)\n",
    "\n",
    "tabela_operacje[\"Czas operacji\"] = tabela_operacje.End-tabela_operacje.Start\n",
    "tabela_operacje.sort_values(by=[\"Operacja\",\"Start\"])\n",
    "tabela_operacje"
   ]
  },
  {
   "cell_type": "code",
   "execution_count": 9,
   "metadata": {},
   "outputs": [
    {
     "data": {
      "text/plain": [
       "Timedelta('4 days 07:10:00')"
      ]
     },
     "execution_count": 9,
     "metadata": {},
     "output_type": "execute_result"
    }
   ],
   "source": [
    "tabela_operacje[tabela_operacje.Zamowienie == \"2023_1\"][\"End\"].max() - tabela_operacje[tabela_operacje.Zamowienie == \"2023_1\"][\"Start\"].min()"
   ]
  },
  {
   "cell_type": "code",
   "execution_count": 10,
   "metadata": {},
   "outputs": [
    {
     "data": {
      "application/vnd.plotly.v1+json": {
       "config": {
        "plotlyServerURL": "https://plot.ly"
       },
       "data": [
        {
         "alignmentgroup": "True",
         "base": [
          "2023-04-12T10:30:00",
          "2023-04-12T04:30:00",
          "2023-04-11T16:57:41.538462",
          "2023-04-11T03:30:00",
          "2023-04-11T03:30:00",
          "2023-04-11T03:30:00",
          "2023-04-10T05:00:00",
          "2023-04-08T08:00:00",
          "2023-04-08T08:00:00",
          "2023-04-08T05:50:00"
         ],
         "customdata": [
          [
           "Prod_1",
           "P0DT2H30M0S",
           ""
          ],
          [
           "Prod_1",
           "P0DT6H0M0S",
           "1500kpl"
          ],
          [
           "Prod_1",
           "P0DT11H32M18.461538S",
           "1500kpl"
          ],
          [
           "Szklanka late 200ml",
           "P1DT1H0M0S",
           "3000szt"
          ],
          [
           "Szklanka late 200ml",
           "P1DT1H0M0S",
           "3000szt"
          ],
          [
           "Szklanka late 200ml",
           "P1DT1H0M0S",
           "3000szt"
          ],
          [
           "Pret 5mm bezbarwny",
           "P0DT22H30M0S",
           "9000szt"
          ],
          [
           "Szklanka late 200ml",
           "P1DT21H0M0S",
           "3000szt"
          ],
          [
           "Szklanka late 200ml",
           "P1DT21H0M0S",
           "3000szt"
          ],
          [
           "Szklanka late 200ml",
           "P0DT2H10M0S",
           "2szt"
          ]
         ],
         "hovertemplate": "Zamowienie=2023_1<br>Start=%{base}<br>End=%{x}<br>stanowisko=%{y}<br>Produkt=%{customdata[0]}<br>Czas operacji=%{customdata[1]}<br>Ilosc=%{customdata[2]}<extra></extra>",
         "legendgroup": "2023_1",
         "marker": {
          "color": "#636efa",
          "pattern": {
           "shape": ""
          }
         },
         "name": "2023_1",
         "offsetgroup": "2023_1",
         "orientation": "h",
         "showlegend": true,
         "textposition": "auto",
         "type": "bar",
         "x": [
          9000000,
          21600000,
          41538461,
          90000000,
          90000000,
          90000000,
          81000000,
          162000000,
          162000000,
          7800000
         ],
         "xaxis": "x",
         "y": [
          "zaladunek_1",
          "pakowanie h1s1",
          "ciecie kartonu",
          "klejnie uszek r3",
          "klejnie uszek r2",
          "klejnie uszek r1",
          "giecie preta",
          "w1s2",
          "w1s1",
          "formiernia"
         ],
         "yaxis": "y"
        }
       ],
       "layout": {
        "barmode": "overlay",
        "legend": {
         "title": {
          "text": "Zamowienie"
         },
         "tracegroupgap": 0
        },
        "template": {
         "data": {
          "bar": [
           {
            "error_x": {
             "color": "#2a3f5f"
            },
            "error_y": {
             "color": "#2a3f5f"
            },
            "marker": {
             "line": {
              "color": "#E5ECF6",
              "width": 0.5
             },
             "pattern": {
              "fillmode": "overlay",
              "size": 10,
              "solidity": 0.2
             }
            },
            "type": "bar"
           }
          ],
          "barpolar": [
           {
            "marker": {
             "line": {
              "color": "#E5ECF6",
              "width": 0.5
             },
             "pattern": {
              "fillmode": "overlay",
              "size": 10,
              "solidity": 0.2
             }
            },
            "type": "barpolar"
           }
          ],
          "carpet": [
           {
            "aaxis": {
             "endlinecolor": "#2a3f5f",
             "gridcolor": "white",
             "linecolor": "white",
             "minorgridcolor": "white",
             "startlinecolor": "#2a3f5f"
            },
            "baxis": {
             "endlinecolor": "#2a3f5f",
             "gridcolor": "white",
             "linecolor": "white",
             "minorgridcolor": "white",
             "startlinecolor": "#2a3f5f"
            },
            "type": "carpet"
           }
          ],
          "choropleth": [
           {
            "colorbar": {
             "outlinewidth": 0,
             "ticks": ""
            },
            "type": "choropleth"
           }
          ],
          "contour": [
           {
            "colorbar": {
             "outlinewidth": 0,
             "ticks": ""
            },
            "colorscale": [
             [
              0,
              "#0d0887"
             ],
             [
              0.1111111111111111,
              "#46039f"
             ],
             [
              0.2222222222222222,
              "#7201a8"
             ],
             [
              0.3333333333333333,
              "#9c179e"
             ],
             [
              0.4444444444444444,
              "#bd3786"
             ],
             [
              0.5555555555555556,
              "#d8576b"
             ],
             [
              0.6666666666666666,
              "#ed7953"
             ],
             [
              0.7777777777777778,
              "#fb9f3a"
             ],
             [
              0.8888888888888888,
              "#fdca26"
             ],
             [
              1,
              "#f0f921"
             ]
            ],
            "type": "contour"
           }
          ],
          "contourcarpet": [
           {
            "colorbar": {
             "outlinewidth": 0,
             "ticks": ""
            },
            "type": "contourcarpet"
           }
          ],
          "heatmap": [
           {
            "colorbar": {
             "outlinewidth": 0,
             "ticks": ""
            },
            "colorscale": [
             [
              0,
              "#0d0887"
             ],
             [
              0.1111111111111111,
              "#46039f"
             ],
             [
              0.2222222222222222,
              "#7201a8"
             ],
             [
              0.3333333333333333,
              "#9c179e"
             ],
             [
              0.4444444444444444,
              "#bd3786"
             ],
             [
              0.5555555555555556,
              "#d8576b"
             ],
             [
              0.6666666666666666,
              "#ed7953"
             ],
             [
              0.7777777777777778,
              "#fb9f3a"
             ],
             [
              0.8888888888888888,
              "#fdca26"
             ],
             [
              1,
              "#f0f921"
             ]
            ],
            "type": "heatmap"
           }
          ],
          "heatmapgl": [
           {
            "colorbar": {
             "outlinewidth": 0,
             "ticks": ""
            },
            "colorscale": [
             [
              0,
              "#0d0887"
             ],
             [
              0.1111111111111111,
              "#46039f"
             ],
             [
              0.2222222222222222,
              "#7201a8"
             ],
             [
              0.3333333333333333,
              "#9c179e"
             ],
             [
              0.4444444444444444,
              "#bd3786"
             ],
             [
              0.5555555555555556,
              "#d8576b"
             ],
             [
              0.6666666666666666,
              "#ed7953"
             ],
             [
              0.7777777777777778,
              "#fb9f3a"
             ],
             [
              0.8888888888888888,
              "#fdca26"
             ],
             [
              1,
              "#f0f921"
             ]
            ],
            "type": "heatmapgl"
           }
          ],
          "histogram": [
           {
            "marker": {
             "pattern": {
              "fillmode": "overlay",
              "size": 10,
              "solidity": 0.2
             }
            },
            "type": "histogram"
           }
          ],
          "histogram2d": [
           {
            "colorbar": {
             "outlinewidth": 0,
             "ticks": ""
            },
            "colorscale": [
             [
              0,
              "#0d0887"
             ],
             [
              0.1111111111111111,
              "#46039f"
             ],
             [
              0.2222222222222222,
              "#7201a8"
             ],
             [
              0.3333333333333333,
              "#9c179e"
             ],
             [
              0.4444444444444444,
              "#bd3786"
             ],
             [
              0.5555555555555556,
              "#d8576b"
             ],
             [
              0.6666666666666666,
              "#ed7953"
             ],
             [
              0.7777777777777778,
              "#fb9f3a"
             ],
             [
              0.8888888888888888,
              "#fdca26"
             ],
             [
              1,
              "#f0f921"
             ]
            ],
            "type": "histogram2d"
           }
          ],
          "histogram2dcontour": [
           {
            "colorbar": {
             "outlinewidth": 0,
             "ticks": ""
            },
            "colorscale": [
             [
              0,
              "#0d0887"
             ],
             [
              0.1111111111111111,
              "#46039f"
             ],
             [
              0.2222222222222222,
              "#7201a8"
             ],
             [
              0.3333333333333333,
              "#9c179e"
             ],
             [
              0.4444444444444444,
              "#bd3786"
             ],
             [
              0.5555555555555556,
              "#d8576b"
             ],
             [
              0.6666666666666666,
              "#ed7953"
             ],
             [
              0.7777777777777778,
              "#fb9f3a"
             ],
             [
              0.8888888888888888,
              "#fdca26"
             ],
             [
              1,
              "#f0f921"
             ]
            ],
            "type": "histogram2dcontour"
           }
          ],
          "mesh3d": [
           {
            "colorbar": {
             "outlinewidth": 0,
             "ticks": ""
            },
            "type": "mesh3d"
           }
          ],
          "parcoords": [
           {
            "line": {
             "colorbar": {
              "outlinewidth": 0,
              "ticks": ""
             }
            },
            "type": "parcoords"
           }
          ],
          "pie": [
           {
            "automargin": true,
            "type": "pie"
           }
          ],
          "scatter": [
           {
            "fillpattern": {
             "fillmode": "overlay",
             "size": 10,
             "solidity": 0.2
            },
            "type": "scatter"
           }
          ],
          "scatter3d": [
           {
            "line": {
             "colorbar": {
              "outlinewidth": 0,
              "ticks": ""
             }
            },
            "marker": {
             "colorbar": {
              "outlinewidth": 0,
              "ticks": ""
             }
            },
            "type": "scatter3d"
           }
          ],
          "scattercarpet": [
           {
            "marker": {
             "colorbar": {
              "outlinewidth": 0,
              "ticks": ""
             }
            },
            "type": "scattercarpet"
           }
          ],
          "scattergeo": [
           {
            "marker": {
             "colorbar": {
              "outlinewidth": 0,
              "ticks": ""
             }
            },
            "type": "scattergeo"
           }
          ],
          "scattergl": [
           {
            "marker": {
             "colorbar": {
              "outlinewidth": 0,
              "ticks": ""
             }
            },
            "type": "scattergl"
           }
          ],
          "scattermapbox": [
           {
            "marker": {
             "colorbar": {
              "outlinewidth": 0,
              "ticks": ""
             }
            },
            "type": "scattermapbox"
           }
          ],
          "scatterpolar": [
           {
            "marker": {
             "colorbar": {
              "outlinewidth": 0,
              "ticks": ""
             }
            },
            "type": "scatterpolar"
           }
          ],
          "scatterpolargl": [
           {
            "marker": {
             "colorbar": {
              "outlinewidth": 0,
              "ticks": ""
             }
            },
            "type": "scatterpolargl"
           }
          ],
          "scatterternary": [
           {
            "marker": {
             "colorbar": {
              "outlinewidth": 0,
              "ticks": ""
             }
            },
            "type": "scatterternary"
           }
          ],
          "surface": [
           {
            "colorbar": {
             "outlinewidth": 0,
             "ticks": ""
            },
            "colorscale": [
             [
              0,
              "#0d0887"
             ],
             [
              0.1111111111111111,
              "#46039f"
             ],
             [
              0.2222222222222222,
              "#7201a8"
             ],
             [
              0.3333333333333333,
              "#9c179e"
             ],
             [
              0.4444444444444444,
              "#bd3786"
             ],
             [
              0.5555555555555556,
              "#d8576b"
             ],
             [
              0.6666666666666666,
              "#ed7953"
             ],
             [
              0.7777777777777778,
              "#fb9f3a"
             ],
             [
              0.8888888888888888,
              "#fdca26"
             ],
             [
              1,
              "#f0f921"
             ]
            ],
            "type": "surface"
           }
          ],
          "table": [
           {
            "cells": {
             "fill": {
              "color": "#EBF0F8"
             },
             "line": {
              "color": "white"
             }
            },
            "header": {
             "fill": {
              "color": "#C8D4E3"
             },
             "line": {
              "color": "white"
             }
            },
            "type": "table"
           }
          ]
         },
         "layout": {
          "annotationdefaults": {
           "arrowcolor": "#2a3f5f",
           "arrowhead": 0,
           "arrowwidth": 1
          },
          "autotypenumbers": "strict",
          "coloraxis": {
           "colorbar": {
            "outlinewidth": 0,
            "ticks": ""
           }
          },
          "colorscale": {
           "diverging": [
            [
             0,
             "#8e0152"
            ],
            [
             0.1,
             "#c51b7d"
            ],
            [
             0.2,
             "#de77ae"
            ],
            [
             0.3,
             "#f1b6da"
            ],
            [
             0.4,
             "#fde0ef"
            ],
            [
             0.5,
             "#f7f7f7"
            ],
            [
             0.6,
             "#e6f5d0"
            ],
            [
             0.7,
             "#b8e186"
            ],
            [
             0.8,
             "#7fbc41"
            ],
            [
             0.9,
             "#4d9221"
            ],
            [
             1,
             "#276419"
            ]
           ],
           "sequential": [
            [
             0,
             "#0d0887"
            ],
            [
             0.1111111111111111,
             "#46039f"
            ],
            [
             0.2222222222222222,
             "#7201a8"
            ],
            [
             0.3333333333333333,
             "#9c179e"
            ],
            [
             0.4444444444444444,
             "#bd3786"
            ],
            [
             0.5555555555555556,
             "#d8576b"
            ],
            [
             0.6666666666666666,
             "#ed7953"
            ],
            [
             0.7777777777777778,
             "#fb9f3a"
            ],
            [
             0.8888888888888888,
             "#fdca26"
            ],
            [
             1,
             "#f0f921"
            ]
           ],
           "sequentialminus": [
            [
             0,
             "#0d0887"
            ],
            [
             0.1111111111111111,
             "#46039f"
            ],
            [
             0.2222222222222222,
             "#7201a8"
            ],
            [
             0.3333333333333333,
             "#9c179e"
            ],
            [
             0.4444444444444444,
             "#bd3786"
            ],
            [
             0.5555555555555556,
             "#d8576b"
            ],
            [
             0.6666666666666666,
             "#ed7953"
            ],
            [
             0.7777777777777778,
             "#fb9f3a"
            ],
            [
             0.8888888888888888,
             "#fdca26"
            ],
            [
             1,
             "#f0f921"
            ]
           ]
          },
          "colorway": [
           "#636efa",
           "#EF553B",
           "#00cc96",
           "#ab63fa",
           "#FFA15A",
           "#19d3f3",
           "#FF6692",
           "#B6E880",
           "#FF97FF",
           "#FECB52"
          ],
          "font": {
           "color": "#2a3f5f"
          },
          "geo": {
           "bgcolor": "white",
           "lakecolor": "white",
           "landcolor": "#E5ECF6",
           "showlakes": true,
           "showland": true,
           "subunitcolor": "white"
          },
          "hoverlabel": {
           "align": "left"
          },
          "hovermode": "closest",
          "mapbox": {
           "style": "light"
          },
          "paper_bgcolor": "white",
          "plot_bgcolor": "#E5ECF6",
          "polar": {
           "angularaxis": {
            "gridcolor": "white",
            "linecolor": "white",
            "ticks": ""
           },
           "bgcolor": "#E5ECF6",
           "radialaxis": {
            "gridcolor": "white",
            "linecolor": "white",
            "ticks": ""
           }
          },
          "scene": {
           "xaxis": {
            "backgroundcolor": "#E5ECF6",
            "gridcolor": "white",
            "gridwidth": 2,
            "linecolor": "white",
            "showbackground": true,
            "ticks": "",
            "zerolinecolor": "white"
           },
           "yaxis": {
            "backgroundcolor": "#E5ECF6",
            "gridcolor": "white",
            "gridwidth": 2,
            "linecolor": "white",
            "showbackground": true,
            "ticks": "",
            "zerolinecolor": "white"
           },
           "zaxis": {
            "backgroundcolor": "#E5ECF6",
            "gridcolor": "white",
            "gridwidth": 2,
            "linecolor": "white",
            "showbackground": true,
            "ticks": "",
            "zerolinecolor": "white"
           }
          },
          "shapedefaults": {
           "line": {
            "color": "#2a3f5f"
           }
          },
          "ternary": {
           "aaxis": {
            "gridcolor": "white",
            "linecolor": "white",
            "ticks": ""
           },
           "baxis": {
            "gridcolor": "white",
            "linecolor": "white",
            "ticks": ""
           },
           "bgcolor": "#E5ECF6",
           "caxis": {
            "gridcolor": "white",
            "linecolor": "white",
            "ticks": ""
           }
          },
          "title": {
           "x": 0.05
          },
          "xaxis": {
           "automargin": true,
           "gridcolor": "white",
           "linecolor": "white",
           "ticks": "",
           "title": {
            "standoff": 15
           },
           "zerolinecolor": "white",
           "zerolinewidth": 2
          },
          "yaxis": {
           "automargin": true,
           "gridcolor": "white",
           "linecolor": "white",
           "ticks": "",
           "title": {
            "standoff": 15
           },
           "zerolinecolor": "white",
           "zerolinewidth": 2
          }
         }
        },
        "title": {
         "text": "Operacje"
        },
        "xaxis": {
         "anchor": "y",
         "domain": [
          0,
          1
         ],
         "type": "date"
        },
        "yaxis": {
         "anchor": "x",
         "domain": [
          0,
          1
         ],
         "title": {
          "text": "stanowisko"
         }
        }
       }
      }
     },
     "metadata": {},
     "output_type": "display_data"
    }
   ],
   "source": [
    "fig = px.timeline(tabela_operacje, x_start=\"Start\", x_end=\"End\", y=\"stanowisko\", color=\"Zamowienie\",title=\"Operacje\", hover_data=[\"Produkt\", \"Czas operacji\", \"Ilosc\"])\n",
    "# fig.update_yaxes(autorange=\"reversed\")\n",
    "# fig.add_vline(dt(2023,4,9,13), line_width=3, line_dash=\"dash\", line_color=\"green\")\n",
    "fig.show()"
   ]
  },
  {
   "cell_type": "code",
   "execution_count": null,
   "metadata": {},
   "outputs": [],
   "source": []
  }
 ],
 "metadata": {
  "kernelspec": {
   "display_name": "venv",
   "language": "python",
   "name": "python3"
  },
  "language_info": {
   "codemirror_mode": {
    "name": "ipython",
    "version": 3
   },
   "file_extension": ".py",
   "mimetype": "text/x-python",
   "name": "python",
   "nbconvert_exporter": "python",
   "pygments_lexer": "ipython3",
   "version": "3.10.6"
  },
  "orig_nbformat": 4
 },
 "nbformat": 4,
 "nbformat_minor": 2
}
