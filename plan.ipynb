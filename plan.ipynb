{
 "cells": [
  {
   "cell_type": "code",
   "execution_count": 1,
   "metadata": {},
   "outputs": [],
   "source": [
    "import plotly.express as px\n",
    "import pandas as pd\n",
    "from datetime import datetime as dt, timedelta"
   ]
  },
  {
   "cell_type": "code",
   "execution_count": 2,
   "metadata": {},
   "outputs": [],
   "source": [
    "dane_produktu = [\n",
    "    {\"nazwa\": \"Prod_1\",\n",
    "     \"kategoria\": \"Produkt koncowy\",\n",
    "     \"jednostka\": \"kpl\",\n",
    "     \"norma\": \"1kpl/min\",\n",
    "     \"skladowe\": [{\n",
    "                    \"nazwa\": \"Karton maly\", \n",
    "                    \"ilosc\": 1\n",
    "     },\n",
    "                    {\n",
    "                    \"nazwa\": \"Kartonowa Przekladka mala\",\n",
    "                    \"ilosc\": 2\n",
    "                    },\n",
    "                    {\n",
    "                        \"nazwa\": \"Kartonowa Przekladka duza\",\n",
    "                        \"ilosc\": 1\n",
    "                    },\n",
    "                    {\n",
    "                        \"nazwa\": \"Szklanka Late 200ml z uszkiem\",\n",
    "                        \"ilosc\": 6\n",
    "\n",
    "                    }]},\n",
    "    {\"nazwa\": \"Prod_2\",\n",
    "     \"kategoria\": \"Produkt koncowy\",\n",
    "     \"jednostka\": \"kpl\",\n",
    "     \"norma\": \"1.2kpl/min\",\n",
    "     \"skladowe\": [{\n",
    "                    \"nazwa\": \"Karton xxl\", \n",
    "                    \"ilosc\": 1\n",
    "     },\n",
    "                    {\n",
    "                    \"nazwa\": \"Kartonowa Przekladka mala\",\n",
    "                    \"ilosc\": 4\n",
    "                    },\n",
    "                    {\n",
    "                        \"nazwa\": \"Kartonowa Przekladka duza\",\n",
    "                        \"ilosc\": 2\n",
    "                    },\n",
    "                    {\n",
    "                        \"nazwa\": \"Szklanka Late 200ml z uszkiem\",\n",
    "                        \"ilosc\": 12\n",
    "                    }]}\n",
    "]"
   ]
  },
  {
   "cell_type": "code",
   "execution_count": null,
   "metadata": {},
   "outputs": [],
   "source": [
    "zamowienia = [\n",
    "   dict(Numer_zamowinie= \"Zam1\", Produkt= \"Prod_1\", Ilosc=100, Data_dostawy=dt(2023,5,15)),\n",
    "   dict(Numer_zamowinie= \"Zam1\", Produkt= \"Prod_2\", Ilosc=1000, Data_dostawy=dt(2023,5,15)),\n",
    "] "
   ]
  },
  {
   "cell_type": "code",
   "execution_count": 7,
   "metadata": {},
   "outputs": [
    {
     "data": {
      "text/html": [
       "<div>\n",
       "<style scoped>\n",
       "    .dataframe tbody tr th:only-of-type {\n",
       "        vertical-align: middle;\n",
       "    }\n",
       "\n",
       "    .dataframe tbody tr th {\n",
       "        vertical-align: top;\n",
       "    }\n",
       "\n",
       "    .dataframe thead th {\n",
       "        text-align: right;\n",
       "    }\n",
       "</style>\n",
       "<table border=\"1\" class=\"dataframe\">\n",
       "  <thead>\n",
       "    <tr style=\"text-align: right;\">\n",
       "      <th></th>\n",
       "      <th>Numer_zamowinie</th>\n",
       "      <th>Produkt</th>\n",
       "      <th>Ilosc</th>\n",
       "    </tr>\n",
       "  </thead>\n",
       "  <tbody>\n",
       "    <tr>\n",
       "      <th>0</th>\n",
       "      <td>Zam1</td>\n",
       "      <td>Prod_1</td>\n",
       "      <td>100</td>\n",
       "    </tr>\n",
       "  </tbody>\n",
       "</table>\n",
       "</div>"
      ],
      "text/plain": [
       "  Numer_zamowinie Produkt  Ilosc\n",
       "0            Zam1  Prod_1    100"
      ]
     },
     "execution_count": 7,
     "metadata": {},
     "output_type": "execute_result"
    }
   ],
   "source": [
    "pd.DataFrame([\n",
    "    dict(Numer_zamowinie= \"Zam1\", Produkt= \"Prod_1\", Ilosc=100)\n",
    "])"
   ]
  },
  {
   "cell_type": "code",
   "execution_count": 20,
   "metadata": {},
   "outputs": [
    {
     "data": {
      "text/plain": [
       "150.0"
      ]
     },
     "execution_count": 20,
     "metadata": {},
     "output_type": "execute_result"
    }
   ],
   "source": [
    "2.5*60\n"
   ]
  },
  {
   "cell_type": "code",
   "execution_count": null,
   "metadata": {},
   "outputs": [],
   "source": [
    "tehnologia = [\n",
    "    {\"Nazwa\":\"Prod_1\",\"idop\":100, \"operacja_nazwa\": \"przegotowanie form\", \"norma\": \"15min/1000szt\", \"asortyment powiazany\": \"Asor_1\",\"id_wejsciore\":0},\n",
    "    {\"Nazwa\":\"Prod_1\",\"idop\":200, \"operacja_nazwa\": \"formowanie reczne\", \"norma\": \"100szt/h\", \"asortyment powiazany\": \"Asor_1\",\"id_wejsciore\":0},\n",
    "    {\"Nazwa\":\"Prod_1\",\"idop\":300, \"operacja_nazwa\": \"giecie preta\", \"norma\": \"400szt/h\", \"asortyment powiazany\": \"Asor_1\",\"id_wejsciore\":0},\n",
    "    {\"Nazwa\":\"Prod_1\",\"idop\":400, \"operacja_nazwa\": \"klenie uszek reczne\", \"norma\": \"240szt/h\", \"asortyment powiazany\": \"Asor_1\",\"id_wejsciore\":0},\n",
    "    {\"Nazwa\":\"Prod_1\",\"idop\":500, \"operacja_nazwa\": \"ciecie kartonu\", \"norma\": \"30kpl/h\", \"asortyment powiazany\": \"Prod_1\",\"id_wejsciore\":0},\n",
    "    {\"Nazwa\":\"Prod_1\",\"idop\":600, \"operacja_nazwa\": \"pakowanie\", \"norma\": \"150kpl/h\", \"asortyment powiazany\": \"Prod_1\",\"id_wejsciore\":0},\n",
    "    {\"Nazwa\":\"Prod_1\",\"idop\":700, \"operacja_nazwa\": \"zaladunek\", \"norma\": \"1h\", \"asortyment powiazany\": \"Prod_1\",\"id_wejsciore\":0},\n",
    "    \n",
    "    ]"
   ]
  },
  {
   "cell_type": "code",
   "execution_count": 18,
   "metadata": {},
   "outputs": [
    {
     "data": {
      "text/html": [
       "<div>\n",
       "<style scoped>\n",
       "    .dataframe tbody tr th:only-of-type {\n",
       "        vertical-align: middle;\n",
       "    }\n",
       "\n",
       "    .dataframe tbody tr th {\n",
       "        vertical-align: top;\n",
       "    }\n",
       "\n",
       "    .dataframe thead th {\n",
       "        text-align: right;\n",
       "    }\n",
       "</style>\n",
       "<table border=\"1\" class=\"dataframe\">\n",
       "  <thead>\n",
       "    <tr style=\"text-align: right;\">\n",
       "      <th></th>\n",
       "      <th>Zamowienie</th>\n",
       "      <th>Produkt</th>\n",
       "      <th>Operacja</th>\n",
       "      <th>Start</th>\n",
       "      <th>End</th>\n",
       "    </tr>\n",
       "  </thead>\n",
       "  <tbody>\n",
       "    <tr>\n",
       "      <th>3</th>\n",
       "      <td>2023_1</td>\n",
       "      <td>Prod_1</td>\n",
       "      <td>ciecie kartonu</td>\n",
       "      <td>2023-03-20 12:00:00</td>\n",
       "      <td>2023-03-20 13:00:00</td>\n",
       "    </tr>\n",
       "    <tr>\n",
       "      <th>5</th>\n",
       "      <td>2023_1</td>\n",
       "      <td>Asor_1</td>\n",
       "      <td>formowanie w1s1</td>\n",
       "      <td>2023-03-19 06:00:00</td>\n",
       "      <td>2023-03-19 16:00:00</td>\n",
       "    </tr>\n",
       "    <tr>\n",
       "      <th>6</th>\n",
       "      <td>2023_1</td>\n",
       "      <td>Asor_1</td>\n",
       "      <td>formowanie w1s2</td>\n",
       "      <td>2023-03-19 06:00:00</td>\n",
       "      <td>2023-03-19 13:00:00</td>\n",
       "    </tr>\n",
       "    <tr>\n",
       "      <th>4</th>\n",
       "      <td>2023_1</td>\n",
       "      <td>Asor_1</td>\n",
       "      <td>giecie preta s1</td>\n",
       "      <td>2023-03-19 14:00:00</td>\n",
       "      <td>2023-03-19 20:00:00</td>\n",
       "    </tr>\n",
       "    <tr>\n",
       "      <th>2</th>\n",
       "      <td>2023_1</td>\n",
       "      <td>Asor_1</td>\n",
       "      <td>klejenie uszek reczne</td>\n",
       "      <td>2023-03-20 09:00:00</td>\n",
       "      <td>2023-03-20 13:00:00</td>\n",
       "    </tr>\n",
       "    <tr>\n",
       "      <th>1</th>\n",
       "      <td>2023_1</td>\n",
       "      <td>Prod_1</td>\n",
       "      <td>pakowanie s1</td>\n",
       "      <td>2023-03-20 14:00:00</td>\n",
       "      <td>2023-03-20 15:00:00</td>\n",
       "    </tr>\n",
       "    <tr>\n",
       "      <th>7</th>\n",
       "      <td>2023_1</td>\n",
       "      <td>Asor_1</td>\n",
       "      <td>przegotowanie form</td>\n",
       "      <td>2023-03-18 12:00:00</td>\n",
       "      <td>2023-03-18 14:00:00</td>\n",
       "    </tr>\n",
       "    <tr>\n",
       "      <th>0</th>\n",
       "      <td>2023_1</td>\n",
       "      <td>Prod_1</td>\n",
       "      <td>zaladunek 1</td>\n",
       "      <td>2023-03-20 15:00:00</td>\n",
       "      <td>2023-03-20 16:00:00</td>\n",
       "    </tr>\n",
       "  </tbody>\n",
       "</table>\n",
       "</div>"
      ],
      "text/plain": [
       "  Zamowienie Produkt               Operacja               Start  \\\n",
       "3     2023_1  Prod_1         ciecie kartonu 2023-03-20 12:00:00   \n",
       "5     2023_1  Asor_1        formowanie w1s1 2023-03-19 06:00:00   \n",
       "6     2023_1  Asor_1        formowanie w1s2 2023-03-19 06:00:00   \n",
       "4     2023_1  Asor_1        giecie preta s1 2023-03-19 14:00:00   \n",
       "2     2023_1  Asor_1  klejenie uszek reczne 2023-03-20 09:00:00   \n",
       "1     2023_1  Prod_1           pakowanie s1 2023-03-20 14:00:00   \n",
       "7     2023_1  Asor_1     przegotowanie form 2023-03-18 12:00:00   \n",
       "0     2023_1  Prod_1            zaladunek 1 2023-03-20 15:00:00   \n",
       "\n",
       "                  End  \n",
       "3 2023-03-20 13:00:00  \n",
       "5 2023-03-19 16:00:00  \n",
       "6 2023-03-19 13:00:00  \n",
       "4 2023-03-19 20:00:00  \n",
       "2 2023-03-20 13:00:00  \n",
       "1 2023-03-20 15:00:00  \n",
       "7 2023-03-18 14:00:00  \n",
       "0 2023-03-20 16:00:00  "
      ]
     },
     "execution_count": 18,
     "metadata": {},
     "output_type": "execute_result"
    }
   ],
   "source": [
    "tabela_operacje = pd.DataFrame([\n",
    "    {\"Zamowienie\": \"2023_1\", \"Produkt\":\"Prod_1\", \"Operacja\": \"zaladunek 1\", \"Start\":dt(2023,3,20,15), \"End\": dt(2023,3,20,16)},\n",
    "    {\"Zamowienie\": \"2023_1\", \"Produkt\":\"Prod_1\", \"Operacja\": \"pakowanie s1\", \"Start\":dt(2023,3,20,14), \"End\": dt(2023,3,20,15)},\n",
    "    {\"Zamowienie\": \"2023_1\", \"Produkt\":\"Asor_1\", \"Operacja\": \"klejenie uszek reczne\", \"Start\":dt(2023,3,20,9), \"End\": dt(2023,3,20,13)},\n",
    "    {\"Zamowienie\": \"2023_1\", \"Produkt\":\"Prod_1\", \"Operacja\": \"ciecie kartonu\", \"Start\":dt(2023,3,20,12), \"End\": dt(2023,3,20,13)},\n",
    "    {\"Zamowienie\": \"2023_1\", \"Produkt\":\"Asor_1\", \"Operacja\": \"giecie preta s1\", \"Start\":dt(2023,3,19,14), \"End\": dt(2023,3,19,20)},\n",
    "    {\"Zamowienie\": \"2023_1\", \"Produkt\":\"Asor_1\", \"Operacja\": \"formowanie_reczne w1s1\", \"Start\":dt(2023,3,19,6), \"End\": dt(2023,3,19,16)},\n",
    "    {\"Zamowienie\": \"2023_1\", \"Produkt\":\"Asor_1\", \"Operacja\": \"formowanie_reczne w1s2\", \"Start\":dt(2023,3,19,6), \"End\": dt(2023,3,19,13)},\n",
    "    {\"Zamowienie\": \"2023_1\", \"Produkt\":\"Asor_1\", \"Operacja\": \"przegotowanie form\", \"Start\":dt(2023,3,18,12), \"End\": dt(2023,3,18,14)},\n",
    "    \n",
    "    \n",
    "    \n",
    "    ])\n",
    "tabela_operacje.sort_values(by=[\"Operacja\",\"Start\"])"
   ]
  },
  {
   "cell_type": "code",
   "execution_count": 19,
   "metadata": {},
   "outputs": [
    {
     "data": {
      "application/vnd.plotly.v1+json": {
       "config": {
        "plotlyServerURL": "https://plot.ly"
       },
       "data": [
        {
         "alignmentgroup": "True",
         "base": [
          "2023-03-20T15:00:00",
          "2023-03-20T14:00:00",
          "2023-03-20T09:00:00",
          "2023-03-20T12:00:00",
          "2023-03-19T14:00:00",
          "2023-03-19T06:00:00",
          "2023-03-19T06:00:00",
          "2023-03-18T12:00:00"
         ],
         "customdata": [
          [
           "Prod_1"
          ],
          [
           "Prod_1"
          ],
          [
           "Asor_1"
          ],
          [
           "Prod_1"
          ],
          [
           "Asor_1"
          ],
          [
           "Asor_1"
          ],
          [
           "Asor_1"
          ],
          [
           "Asor_1"
          ]
         ],
         "hovertemplate": "Zamowienie=2023_1<br>Start=%{base}<br>End=%{x}<br>Operacja=%{y}<br>Produkt=%{customdata[0]}<extra></extra>",
         "legendgroup": "2023_1",
         "marker": {
          "color": "#636efa",
          "pattern": {
           "shape": ""
          }
         },
         "name": "2023_1",
         "offsetgroup": "2023_1",
         "orientation": "h",
         "showlegend": true,
         "textposition": "auto",
         "type": "bar",
         "x": [
          3600000,
          3600000,
          14400000,
          3600000,
          21600000,
          36000000,
          25200000,
          7200000
         ],
         "xaxis": "x",
         "y": [
          "zaladunek 1",
          "pakowanie s1",
          "klejenie uszek reczne",
          "ciecie kartonu",
          "giecie preta s1",
          "formowanie w1s1",
          "formowanie w1s2",
          "przegotowanie form"
         ],
         "yaxis": "y"
        }
       ],
       "layout": {
        "barmode": "overlay",
        "legend": {
         "title": {
          "text": "Zamowienie"
         },
         "tracegroupgap": 0
        },
        "template": {
         "data": {
          "bar": [
           {
            "error_x": {
             "color": "#2a3f5f"
            },
            "error_y": {
             "color": "#2a3f5f"
            },
            "marker": {
             "line": {
              "color": "#E5ECF6",
              "width": 0.5
             },
             "pattern": {
              "fillmode": "overlay",
              "size": 10,
              "solidity": 0.2
             }
            },
            "type": "bar"
           }
          ],
          "barpolar": [
           {
            "marker": {
             "line": {
              "color": "#E5ECF6",
              "width": 0.5
             },
             "pattern": {
              "fillmode": "overlay",
              "size": 10,
              "solidity": 0.2
             }
            },
            "type": "barpolar"
           }
          ],
          "carpet": [
           {
            "aaxis": {
             "endlinecolor": "#2a3f5f",
             "gridcolor": "white",
             "linecolor": "white",
             "minorgridcolor": "white",
             "startlinecolor": "#2a3f5f"
            },
            "baxis": {
             "endlinecolor": "#2a3f5f",
             "gridcolor": "white",
             "linecolor": "white",
             "minorgridcolor": "white",
             "startlinecolor": "#2a3f5f"
            },
            "type": "carpet"
           }
          ],
          "choropleth": [
           {
            "colorbar": {
             "outlinewidth": 0,
             "ticks": ""
            },
            "type": "choropleth"
           }
          ],
          "contour": [
           {
            "colorbar": {
             "outlinewidth": 0,
             "ticks": ""
            },
            "colorscale": [
             [
              0,
              "#0d0887"
             ],
             [
              0.1111111111111111,
              "#46039f"
             ],
             [
              0.2222222222222222,
              "#7201a8"
             ],
             [
              0.3333333333333333,
              "#9c179e"
             ],
             [
              0.4444444444444444,
              "#bd3786"
             ],
             [
              0.5555555555555556,
              "#d8576b"
             ],
             [
              0.6666666666666666,
              "#ed7953"
             ],
             [
              0.7777777777777778,
              "#fb9f3a"
             ],
             [
              0.8888888888888888,
              "#fdca26"
             ],
             [
              1,
              "#f0f921"
             ]
            ],
            "type": "contour"
           }
          ],
          "contourcarpet": [
           {
            "colorbar": {
             "outlinewidth": 0,
             "ticks": ""
            },
            "type": "contourcarpet"
           }
          ],
          "heatmap": [
           {
            "colorbar": {
             "outlinewidth": 0,
             "ticks": ""
            },
            "colorscale": [
             [
              0,
              "#0d0887"
             ],
             [
              0.1111111111111111,
              "#46039f"
             ],
             [
              0.2222222222222222,
              "#7201a8"
             ],
             [
              0.3333333333333333,
              "#9c179e"
             ],
             [
              0.4444444444444444,
              "#bd3786"
             ],
             [
              0.5555555555555556,
              "#d8576b"
             ],
             [
              0.6666666666666666,
              "#ed7953"
             ],
             [
              0.7777777777777778,
              "#fb9f3a"
             ],
             [
              0.8888888888888888,
              "#fdca26"
             ],
             [
              1,
              "#f0f921"
             ]
            ],
            "type": "heatmap"
           }
          ],
          "heatmapgl": [
           {
            "colorbar": {
             "outlinewidth": 0,
             "ticks": ""
            },
            "colorscale": [
             [
              0,
              "#0d0887"
             ],
             [
              0.1111111111111111,
              "#46039f"
             ],
             [
              0.2222222222222222,
              "#7201a8"
             ],
             [
              0.3333333333333333,
              "#9c179e"
             ],
             [
              0.4444444444444444,
              "#bd3786"
             ],
             [
              0.5555555555555556,
              "#d8576b"
             ],
             [
              0.6666666666666666,
              "#ed7953"
             ],
             [
              0.7777777777777778,
              "#fb9f3a"
             ],
             [
              0.8888888888888888,
              "#fdca26"
             ],
             [
              1,
              "#f0f921"
             ]
            ],
            "type": "heatmapgl"
           }
          ],
          "histogram": [
           {
            "marker": {
             "pattern": {
              "fillmode": "overlay",
              "size": 10,
              "solidity": 0.2
             }
            },
            "type": "histogram"
           }
          ],
          "histogram2d": [
           {
            "colorbar": {
             "outlinewidth": 0,
             "ticks": ""
            },
            "colorscale": [
             [
              0,
              "#0d0887"
             ],
             [
              0.1111111111111111,
              "#46039f"
             ],
             [
              0.2222222222222222,
              "#7201a8"
             ],
             [
              0.3333333333333333,
              "#9c179e"
             ],
             [
              0.4444444444444444,
              "#bd3786"
             ],
             [
              0.5555555555555556,
              "#d8576b"
             ],
             [
              0.6666666666666666,
              "#ed7953"
             ],
             [
              0.7777777777777778,
              "#fb9f3a"
             ],
             [
              0.8888888888888888,
              "#fdca26"
             ],
             [
              1,
              "#f0f921"
             ]
            ],
            "type": "histogram2d"
           }
          ],
          "histogram2dcontour": [
           {
            "colorbar": {
             "outlinewidth": 0,
             "ticks": ""
            },
            "colorscale": [
             [
              0,
              "#0d0887"
             ],
             [
              0.1111111111111111,
              "#46039f"
             ],
             [
              0.2222222222222222,
              "#7201a8"
             ],
             [
              0.3333333333333333,
              "#9c179e"
             ],
             [
              0.4444444444444444,
              "#bd3786"
             ],
             [
              0.5555555555555556,
              "#d8576b"
             ],
             [
              0.6666666666666666,
              "#ed7953"
             ],
             [
              0.7777777777777778,
              "#fb9f3a"
             ],
             [
              0.8888888888888888,
              "#fdca26"
             ],
             [
              1,
              "#f0f921"
             ]
            ],
            "type": "histogram2dcontour"
           }
          ],
          "mesh3d": [
           {
            "colorbar": {
             "outlinewidth": 0,
             "ticks": ""
            },
            "type": "mesh3d"
           }
          ],
          "parcoords": [
           {
            "line": {
             "colorbar": {
              "outlinewidth": 0,
              "ticks": ""
             }
            },
            "type": "parcoords"
           }
          ],
          "pie": [
           {
            "automargin": true,
            "type": "pie"
           }
          ],
          "scatter": [
           {
            "fillpattern": {
             "fillmode": "overlay",
             "size": 10,
             "solidity": 0.2
            },
            "type": "scatter"
           }
          ],
          "scatter3d": [
           {
            "line": {
             "colorbar": {
              "outlinewidth": 0,
              "ticks": ""
             }
            },
            "marker": {
             "colorbar": {
              "outlinewidth": 0,
              "ticks": ""
             }
            },
            "type": "scatter3d"
           }
          ],
          "scattercarpet": [
           {
            "marker": {
             "colorbar": {
              "outlinewidth": 0,
              "ticks": ""
             }
            },
            "type": "scattercarpet"
           }
          ],
          "scattergeo": [
           {
            "marker": {
             "colorbar": {
              "outlinewidth": 0,
              "ticks": ""
             }
            },
            "type": "scattergeo"
           }
          ],
          "scattergl": [
           {
            "marker": {
             "colorbar": {
              "outlinewidth": 0,
              "ticks": ""
             }
            },
            "type": "scattergl"
           }
          ],
          "scattermapbox": [
           {
            "marker": {
             "colorbar": {
              "outlinewidth": 0,
              "ticks": ""
             }
            },
            "type": "scattermapbox"
           }
          ],
          "scatterpolar": [
           {
            "marker": {
             "colorbar": {
              "outlinewidth": 0,
              "ticks": ""
             }
            },
            "type": "scatterpolar"
           }
          ],
          "scatterpolargl": [
           {
            "marker": {
             "colorbar": {
              "outlinewidth": 0,
              "ticks": ""
             }
            },
            "type": "scatterpolargl"
           }
          ],
          "scatterternary": [
           {
            "marker": {
             "colorbar": {
              "outlinewidth": 0,
              "ticks": ""
             }
            },
            "type": "scatterternary"
           }
          ],
          "surface": [
           {
            "colorbar": {
             "outlinewidth": 0,
             "ticks": ""
            },
            "colorscale": [
             [
              0,
              "#0d0887"
             ],
             [
              0.1111111111111111,
              "#46039f"
             ],
             [
              0.2222222222222222,
              "#7201a8"
             ],
             [
              0.3333333333333333,
              "#9c179e"
             ],
             [
              0.4444444444444444,
              "#bd3786"
             ],
             [
              0.5555555555555556,
              "#d8576b"
             ],
             [
              0.6666666666666666,
              "#ed7953"
             ],
             [
              0.7777777777777778,
              "#fb9f3a"
             ],
             [
              0.8888888888888888,
              "#fdca26"
             ],
             [
              1,
              "#f0f921"
             ]
            ],
            "type": "surface"
           }
          ],
          "table": [
           {
            "cells": {
             "fill": {
              "color": "#EBF0F8"
             },
             "line": {
              "color": "white"
             }
            },
            "header": {
             "fill": {
              "color": "#C8D4E3"
             },
             "line": {
              "color": "white"
             }
            },
            "type": "table"
           }
          ]
         },
         "layout": {
          "annotationdefaults": {
           "arrowcolor": "#2a3f5f",
           "arrowhead": 0,
           "arrowwidth": 1
          },
          "autotypenumbers": "strict",
          "coloraxis": {
           "colorbar": {
            "outlinewidth": 0,
            "ticks": ""
           }
          },
          "colorscale": {
           "diverging": [
            [
             0,
             "#8e0152"
            ],
            [
             0.1,
             "#c51b7d"
            ],
            [
             0.2,
             "#de77ae"
            ],
            [
             0.3,
             "#f1b6da"
            ],
            [
             0.4,
             "#fde0ef"
            ],
            [
             0.5,
             "#f7f7f7"
            ],
            [
             0.6,
             "#e6f5d0"
            ],
            [
             0.7,
             "#b8e186"
            ],
            [
             0.8,
             "#7fbc41"
            ],
            [
             0.9,
             "#4d9221"
            ],
            [
             1,
             "#276419"
            ]
           ],
           "sequential": [
            [
             0,
             "#0d0887"
            ],
            [
             0.1111111111111111,
             "#46039f"
            ],
            [
             0.2222222222222222,
             "#7201a8"
            ],
            [
             0.3333333333333333,
             "#9c179e"
            ],
            [
             0.4444444444444444,
             "#bd3786"
            ],
            [
             0.5555555555555556,
             "#d8576b"
            ],
            [
             0.6666666666666666,
             "#ed7953"
            ],
            [
             0.7777777777777778,
             "#fb9f3a"
            ],
            [
             0.8888888888888888,
             "#fdca26"
            ],
            [
             1,
             "#f0f921"
            ]
           ],
           "sequentialminus": [
            [
             0,
             "#0d0887"
            ],
            [
             0.1111111111111111,
             "#46039f"
            ],
            [
             0.2222222222222222,
             "#7201a8"
            ],
            [
             0.3333333333333333,
             "#9c179e"
            ],
            [
             0.4444444444444444,
             "#bd3786"
            ],
            [
             0.5555555555555556,
             "#d8576b"
            ],
            [
             0.6666666666666666,
             "#ed7953"
            ],
            [
             0.7777777777777778,
             "#fb9f3a"
            ],
            [
             0.8888888888888888,
             "#fdca26"
            ],
            [
             1,
             "#f0f921"
            ]
           ]
          },
          "colorway": [
           "#636efa",
           "#EF553B",
           "#00cc96",
           "#ab63fa",
           "#FFA15A",
           "#19d3f3",
           "#FF6692",
           "#B6E880",
           "#FF97FF",
           "#FECB52"
          ],
          "font": {
           "color": "#2a3f5f"
          },
          "geo": {
           "bgcolor": "white",
           "lakecolor": "white",
           "landcolor": "#E5ECF6",
           "showlakes": true,
           "showland": true,
           "subunitcolor": "white"
          },
          "hoverlabel": {
           "align": "left"
          },
          "hovermode": "closest",
          "mapbox": {
           "style": "light"
          },
          "paper_bgcolor": "white",
          "plot_bgcolor": "#E5ECF6",
          "polar": {
           "angularaxis": {
            "gridcolor": "white",
            "linecolor": "white",
            "ticks": ""
           },
           "bgcolor": "#E5ECF6",
           "radialaxis": {
            "gridcolor": "white",
            "linecolor": "white",
            "ticks": ""
           }
          },
          "scene": {
           "xaxis": {
            "backgroundcolor": "#E5ECF6",
            "gridcolor": "white",
            "gridwidth": 2,
            "linecolor": "white",
            "showbackground": true,
            "ticks": "",
            "zerolinecolor": "white"
           },
           "yaxis": {
            "backgroundcolor": "#E5ECF6",
            "gridcolor": "white",
            "gridwidth": 2,
            "linecolor": "white",
            "showbackground": true,
            "ticks": "",
            "zerolinecolor": "white"
           },
           "zaxis": {
            "backgroundcolor": "#E5ECF6",
            "gridcolor": "white",
            "gridwidth": 2,
            "linecolor": "white",
            "showbackground": true,
            "ticks": "",
            "zerolinecolor": "white"
           }
          },
          "shapedefaults": {
           "line": {
            "color": "#2a3f5f"
           }
          },
          "ternary": {
           "aaxis": {
            "gridcolor": "white",
            "linecolor": "white",
            "ticks": ""
           },
           "baxis": {
            "gridcolor": "white",
            "linecolor": "white",
            "ticks": ""
           },
           "bgcolor": "#E5ECF6",
           "caxis": {
            "gridcolor": "white",
            "linecolor": "white",
            "ticks": ""
           }
          },
          "title": {
           "x": 0.05
          },
          "xaxis": {
           "automargin": true,
           "gridcolor": "white",
           "linecolor": "white",
           "ticks": "",
           "title": {
            "standoff": 15
           },
           "zerolinecolor": "white",
           "zerolinewidth": 2
          },
          "yaxis": {
           "automargin": true,
           "gridcolor": "white",
           "linecolor": "white",
           "ticks": "",
           "title": {
            "standoff": 15
           },
           "zerolinecolor": "white",
           "zerolinewidth": 2
          }
         }
        },
        "title": {
         "text": "Operacje"
        },
        "xaxis": {
         "anchor": "y",
         "domain": [
          0,
          1
         ],
         "type": "date"
        },
        "yaxis": {
         "anchor": "x",
         "domain": [
          0,
          1
         ],
         "title": {
          "text": "Operacja"
         }
        }
       }
      }
     },
     "metadata": {},
     "output_type": "display_data"
    }
   ],
   "source": [
    "fig = px.timeline(tabela_operacje, x_start=\"Start\", x_end=\"End\", y=\"Operacja\", color=\"Zamowienie\",title=\"Operacje\", hover_data=[\"Produkt\"])\n",
    "# fig.update_yaxes(autorange=\"reversed\")\n",
    "fig.show()"
   ]
  },
  {
   "cell_type": "code",
   "execution_count": null,
   "metadata": {},
   "outputs": [],
   "source": []
  }
 ],
 "metadata": {
  "kernelspec": {
   "display_name": "venv",
   "language": "python",
   "name": "python3"
  },
  "language_info": {
   "codemirror_mode": {
    "name": "ipython",
    "version": 3
   },
   "file_extension": ".py",
   "mimetype": "text/x-python",
   "name": "python",
   "nbconvert_exporter": "python",
   "pygments_lexer": "ipython3",
   "version": "3.10.6"
  },
  "orig_nbformat": 4
 },
 "nbformat": 4,
 "nbformat_minor": 2
}
