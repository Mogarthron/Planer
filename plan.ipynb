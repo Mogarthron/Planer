{
 "cells": [
  {
   "cell_type": "code",
   "execution_count": 1,
   "metadata": {},
   "outputs": [],
   "source": [
    "import plotly.express as px\n",
    "import pandas as pd\n",
    "from datetime import datetime as dt, timedelta"
   ]
  },
  {
   "cell_type": "code",
   "execution_count": 21,
   "metadata": {},
   "outputs": [],
   "source": [
    "receptura_produktu = [\n",
    "    {\"nazwa\": \"Prod_1\",\n",
    "     \"kategoria\": \"Produkt koncowy\",\n",
    "     \"jednostka\": \"kpl\",\n",
    "     \"skladowe\": [{\n",
    "                    \"nazwa\": \"Karton maly\", \n",
    "                    \"ilosc\": 1,\n",
    "                    \"jednostka\": \"kpl\"\n",
    "     },\n",
    "                   {\n",
    "                        \"nazwa\": \"Szklanka Late 200ml z uszkiem fi5mm\",\n",
    "                        \"ilosc\": 6,\n",
    "                        \"jednostka\": \"szt\"\n",
    "                    }]},\n",
    "    {\n",
    "     \"nazwa\": \"Szklanka Late 200ml z uszkiem fi5mm\",\n",
    "     \"kategoria\": \"Asortyment\",\n",
    "     \"jednostka\": \"szt\",\n",
    "     \"skladowe\" : [{\"nazwa\": \"Szklanka Late 200ml\",\n",
    "                    \"ilosc\": 1,\n",
    "                    \"jednostka\": \"szt\"},\n",
    "                    {\"nazwa\": \"uszko 5mm\",\n",
    "                     \"ilosc\": 1,\n",
    "                      \"jednostka\": \"szt\" }]\n",
    "                },\n",
    "   \n",
    "    {\n",
    "     \"nazwa\": \"Karton maly\",\n",
    "     \"kategoria\": \"pol produkt\",\n",
    "     \"jednostka\": \"kpl\",\n",
    "     \"skladowe\" : [{\"nazwa\": \"karton xs\",\n",
    "                    \"ilosc\": 1,\n",
    "                    \"jednostka\": \"szt\"},\n",
    "                    {\"nazwa\": \"przekladka dluga\",\n",
    "                     \"ilosc\": 1,\n",
    "                      \"jednostka\": \"szt\" },\n",
    "                     \n",
    "                    {\"nazwa\": \"przekladka krutka\",\n",
    "                     \"ilosc\": 2,\n",
    "                      \"jednostka\": \"szt\" }]\n",
    "                },\n",
    "   \n",
    "]"
   ]
  },
  {
   "cell_type": "code",
   "execution_count": 29,
   "metadata": {},
   "outputs": [
    {
     "data": {
      "text/plain": [
       "[{'Numer_zamowinie': '2023_1',\n",
       "  'Produkt': 'Prod_1',\n",
       "  'Ilosc': 1500,\n",
       "  'Data_dostawy': datetime.datetime(2023, 6, 15, 13, 0)},\n",
       " {'Numer_zamowinie': 'Zam2',\n",
       "  'Produkt': 'Prod_1',\n",
       "  'Ilosc': 10000,\n",
       "  'Data_dostawy': datetime.datetime(2023, 7, 15, 0, 0)},\n",
       " {'Numer_zamowinie': 'Zam3',\n",
       "  'Produkt': 'Prod_1',\n",
       "  'Ilosc': 3000,\n",
       "  'Data_dostawy': datetime.datetime(2023, 9, 15, 0, 0)}]"
      ]
     },
     "execution_count": 29,
     "metadata": {},
     "output_type": "execute_result"
    }
   ],
   "source": [
    "zamowienia = [\n",
    "   dict(Numer_zamowinie= \"2023_1\", Produkt= \"Prod_1\", Ilosc=1500, Data_dostawy=dt(2023,6,15,13)),\n",
    "   # dict(Numer_zamowinie= \"Zam1\", Produkt= \"Prod_2\", Ilosc=3000, Data_dostawy=dt(2023,5,15)),\n",
    "   dict(Numer_zamowinie= \"Zam2\", Produkt= \"Prod_1\", Ilosc=10000, Data_dostawy=dt(2023,7,15)),\n",
    "   # dict(Numer_zamowinie= \"Zam3\", Produkt= \"Prod_2\", Ilosc=5000, Data_dostawy=dt(2023,5,15)),\n",
    "   dict(Numer_zamowinie= \"Zam3\", Produkt= \"Prod_1\", Ilosc=3000, Data_dostawy=dt(2023,9,15)),\n",
    "] \n",
    "zamowienia"
   ]
  },
  {
   "cell_type": "code",
   "execution_count": 30,
   "metadata": {},
   "outputs": [
    {
     "name": "stdout",
     "output_type": "stream",
     "text": [
      "Karton maly 1500 kpl\n",
      "Szklanka Late 200ml z uszkiem fi5mm 9000 szt\n"
     ]
    }
   ],
   "source": [
    "zam_prod1 = 1500 #klp\n",
    "\n",
    "for s in receptura_produktu[0][\"skladowe\"]:\n",
    "    print(s[\"nazwa\"], s[\"ilosc\"]*zam_prod1, s[\"jednostka\"])\n",
    "    # for "
   ]
  },
  {
   "cell_type": "code",
   "execution_count": 31,
   "metadata": {},
   "outputs": [
    {
     "data": {
      "text/html": [
       "<div>\n",
       "<style scoped>\n",
       "    .dataframe tbody tr th:only-of-type {\n",
       "        vertical-align: middle;\n",
       "    }\n",
       "\n",
       "    .dataframe tbody tr th {\n",
       "        vertical-align: top;\n",
       "    }\n",
       "\n",
       "    .dataframe thead th {\n",
       "        text-align: right;\n",
       "    }\n",
       "</style>\n",
       "<table border=\"1\" class=\"dataframe\">\n",
       "  <thead>\n",
       "    <tr style=\"text-align: right;\">\n",
       "      <th></th>\n",
       "      <th>Nazwa</th>\n",
       "      <th>idop</th>\n",
       "      <th>operacja_nazwa</th>\n",
       "      <th>norma</th>\n",
       "      <th>asortyment powiazany</th>\n",
       "      <th>id_wejsciowe</th>\n",
       "    </tr>\n",
       "  </thead>\n",
       "  <tbody>\n",
       "    <tr>\n",
       "      <th>0</th>\n",
       "      <td>Prod_1</td>\n",
       "      <td>100</td>\n",
       "      <td>przegotowanie form</td>\n",
       "      <td>65min/10000szt</td>\n",
       "      <td>Asor_1</td>\n",
       "      <td>0</td>\n",
       "    </tr>\n",
       "    <tr>\n",
       "      <th>1</th>\n",
       "      <td>Prod_1</td>\n",
       "      <td>200</td>\n",
       "      <td>formowanie reczne</td>\n",
       "      <td>100szt/h</td>\n",
       "      <td>Asor_1</td>\n",
       "      <td>100</td>\n",
       "    </tr>\n",
       "    <tr>\n",
       "      <th>2</th>\n",
       "      <td>Prod_1</td>\n",
       "      <td>300</td>\n",
       "      <td>giecie preta</td>\n",
       "      <td>400szt/h</td>\n",
       "      <td>Asor_1</td>\n",
       "      <td>0</td>\n",
       "    </tr>\n",
       "    <tr>\n",
       "      <th>3</th>\n",
       "      <td>Prod_1</td>\n",
       "      <td>400</td>\n",
       "      <td>klenie uszek reczne</td>\n",
       "      <td>120szt/h</td>\n",
       "      <td>Asor_1</td>\n",
       "      <td>[100, 300]</td>\n",
       "    </tr>\n",
       "    <tr>\n",
       "      <th>4</th>\n",
       "      <td>Prod_1</td>\n",
       "      <td>500</td>\n",
       "      <td>ciecie kartonu</td>\n",
       "      <td>30kpl/h</td>\n",
       "      <td>Prod_1</td>\n",
       "      <td>0</td>\n",
       "    </tr>\n",
       "    <tr>\n",
       "      <th>5</th>\n",
       "      <td>Prod_1</td>\n",
       "      <td>600</td>\n",
       "      <td>pakowanie</td>\n",
       "      <td>250kpl/h</td>\n",
       "      <td>Prod_1</td>\n",
       "      <td>[400, 500]</td>\n",
       "    </tr>\n",
       "    <tr>\n",
       "      <th>6</th>\n",
       "      <td>Prod_1</td>\n",
       "      <td>700</td>\n",
       "      <td>zaladunek</td>\n",
       "      <td>1h</td>\n",
       "      <td>Prod_1</td>\n",
       "      <td>600</td>\n",
       "    </tr>\n",
       "  </tbody>\n",
       "</table>\n",
       "</div>"
      ],
      "text/plain": [
       "    Nazwa  idop       operacja_nazwa           norma asortyment powiazany  \\\n",
       "0  Prod_1   100   przegotowanie form  65min/10000szt               Asor_1   \n",
       "1  Prod_1   200    formowanie reczne        100szt/h               Asor_1   \n",
       "2  Prod_1   300         giecie preta        400szt/h               Asor_1   \n",
       "3  Prod_1   400  klenie uszek reczne        120szt/h               Asor_1   \n",
       "4  Prod_1   500       ciecie kartonu         30kpl/h               Prod_1   \n",
       "5  Prod_1   600            pakowanie        250kpl/h               Prod_1   \n",
       "6  Prod_1   700            zaladunek              1h               Prod_1   \n",
       "\n",
       "  id_wejsciowe  \n",
       "0            0  \n",
       "1          100  \n",
       "2            0  \n",
       "3   [100, 300]  \n",
       "4            0  \n",
       "5   [400, 500]  \n",
       "6          600  "
      ]
     },
     "execution_count": 31,
     "metadata": {},
     "output_type": "execute_result"
    }
   ],
   "source": [
    "tehnologia = [\n",
    "    {\"Nazwa\":\"Prod_1\",\"idop\":100, \"operacja_nazwa\": \"przegotowanie form\", \"norma\": \"65min/10000szt\", \"asortyment powiazany\": \"Asor_1\",\"id_wejsciowe\":0, \"opuznienie\":0},\n",
    "    {\"Nazwa\":\"Prod_1\",\"idop\":200, \"operacja_nazwa\": \"formowanie reczne\", \"norma\": \"100szt/h\", \"asortyment powiazany\": \"Asor_1\",\"id_wejsciowe\":100, \"opuznienie\":130},\n",
    "    {\"Nazwa\":\"Prod_1\",\"idop\":300, \"operacja_nazwa\": \"giecie preta\", \"norma\": \"400szt/h\", \"asortyment powiazany\": \"Asor_1\",\"id_wejsciowe\":0, \"opuznienie\":0},\n",
    "    {\"Nazwa\":\"Prod_1\",\"idop\":400, \"operacja_nazwa\": \"klenie uszek reczne\", \"norma\": \"120szt/h\", \"asortyment powiazany\": \"Asor_1\",\"id_wejsciowe\":[100,300], \"opuznienie\":0},\n",
    "    {\"Nazwa\":\"Prod_1\",\"idop\":500, \"operacja_nazwa\": \"ciecie kartonu\", \"norma\": \"30kpl/h\", \"asortyment powiazany\": \"Prod_1\",\"id_wejsciowe\":0, \"opuznienie\":0},\n",
    "    {\"Nazwa\":\"Prod_1\",\"idop\":600, \"operacja_nazwa\": \"pakowanie\", \"norma\": \"250kpl/h\", \"asortyment powiazany\": \"Prod_1\",\"id_wejsciowe\":[400,500], \"opuznienie\":0},\n",
    "    {\"Nazwa\":\"Prod_1\",\"idop\":700, \"operacja_nazwa\": \"zaladunek\", \"norma\": \"1h\", \"asortyment powiazany\": \"Prod_1\",\"id_wejsciowe\":600, \"opuznienie\":0},\n",
    "    \n",
    "    ]\n",
    "pd.DataFrame(tehnologia)"
   ]
  },
  {
   "cell_type": "code",
   "execution_count": 32,
   "metadata": {},
   "outputs": [
    {
     "data": {
      "text/html": [
       "<div>\n",
       "<style scoped>\n",
       "    .dataframe tbody tr th:only-of-type {\n",
       "        vertical-align: middle;\n",
       "    }\n",
       "\n",
       "    .dataframe tbody tr th {\n",
       "        vertical-align: top;\n",
       "    }\n",
       "\n",
       "    .dataframe thead th {\n",
       "        text-align: right;\n",
       "    }\n",
       "</style>\n",
       "<table border=\"1\" class=\"dataframe\">\n",
       "  <thead>\n",
       "    <tr style=\"text-align: right;\">\n",
       "      <th></th>\n",
       "      <th>Zamowienie</th>\n",
       "      <th>Produkt</th>\n",
       "      <th>Operacja</th>\n",
       "      <th>Start</th>\n",
       "      <th>End</th>\n",
       "    </tr>\n",
       "  </thead>\n",
       "  <tbody>\n",
       "    <tr>\n",
       "      <th>0</th>\n",
       "      <td>2023_1</td>\n",
       "      <td>Prod_1</td>\n",
       "      <td>zaladunek</td>\n",
       "      <td>2023-06-12 12:00:00</td>\n",
       "      <td>2023-06-12 13:00:00</td>\n",
       "    </tr>\n",
       "  </tbody>\n",
       "</table>\n",
       "</div>"
      ],
      "text/plain": [
       "  Zamowienie Produkt   Operacja               Start                 End\n",
       "0     2023_1  Prod_1  zaladunek 2023-06-12 12:00:00 2023-06-12 13:00:00"
      ]
     },
     "execution_count": 32,
     "metadata": {},
     "output_type": "execute_result"
    }
   ],
   "source": [
    "zam = \"2023_1\"\n",
    "tabela_operacje = pd.DataFrame([\n",
    "   dict(Zamowienie=zam, Produkt=\"Prod_1\", Operacja=\"zaladunek\",  Start=zamowienia[0][\"Data_dostawy\"]-timedelta(3)-timedelta(hours=1),End=zamowienia[0][\"Data_dostawy\"]-timedelta(3)) \n",
    "    \n",
    "    ])\n",
    "tabela_operacje.sort_values(by=[\"Operacja\",\"Start\"])"
   ]
  },
  {
   "cell_type": "code",
   "execution_count": 8,
   "metadata": {},
   "outputs": [
    {
     "data": {
      "application/vnd.plotly.v1+json": {
       "config": {
        "plotlyServerURL": "https://plot.ly"
       },
       "data": [
        {
         "alignmentgroup": "True",
         "base": [
          "2023-03-20T15:00:00",
          "2023-03-20T14:00:00",
          "2023-03-20T09:00:00",
          "2023-03-20T12:00:00",
          "2023-03-19T14:00:00",
          "2023-03-19T06:00:00",
          "2023-03-19T06:00:00",
          "2023-03-18T12:00:00"
         ],
         "customdata": [
          [
           "Prod_1"
          ],
          [
           "Prod_1"
          ],
          [
           "Asor_1"
          ],
          [
           "Prod_1"
          ],
          [
           "Asor_1"
          ],
          [
           "Asor_1"
          ],
          [
           "Asor_1"
          ],
          [
           "Asor_1"
          ]
         ],
         "hovertemplate": "Zamowienie=2023_1<br>Start=%{base}<br>End=%{x}<br>Operacja=%{y}<br>Produkt=%{customdata[0]}<extra></extra>",
         "legendgroup": "2023_1",
         "marker": {
          "color": "#636efa",
          "pattern": {
           "shape": ""
          }
         },
         "name": "2023_1",
         "offsetgroup": "2023_1",
         "orientation": "h",
         "showlegend": true,
         "textposition": "auto",
         "type": "bar",
         "x": [
          3600000,
          3600000,
          14400000,
          3600000,
          21600000,
          36000000,
          25200000,
          7200000
         ],
         "xaxis": "x",
         "y": [
          "zaladunek 1",
          "pakowanie s1",
          "klejenie uszek reczne",
          "ciecie kartonu",
          "giecie preta s1",
          "formowanie_reczne w1s1",
          "formowanie_reczne w1s2",
          "przegotowanie form"
         ],
         "yaxis": "y"
        }
       ],
       "layout": {
        "barmode": "overlay",
        "legend": {
         "title": {
          "text": "Zamowienie"
         },
         "tracegroupgap": 0
        },
        "template": {
         "data": {
          "bar": [
           {
            "error_x": {
             "color": "#2a3f5f"
            },
            "error_y": {
             "color": "#2a3f5f"
            },
            "marker": {
             "line": {
              "color": "#E5ECF6",
              "width": 0.5
             },
             "pattern": {
              "fillmode": "overlay",
              "size": 10,
              "solidity": 0.2
             }
            },
            "type": "bar"
           }
          ],
          "barpolar": [
           {
            "marker": {
             "line": {
              "color": "#E5ECF6",
              "width": 0.5
             },
             "pattern": {
              "fillmode": "overlay",
              "size": 10,
              "solidity": 0.2
             }
            },
            "type": "barpolar"
           }
          ],
          "carpet": [
           {
            "aaxis": {
             "endlinecolor": "#2a3f5f",
             "gridcolor": "white",
             "linecolor": "white",
             "minorgridcolor": "white",
             "startlinecolor": "#2a3f5f"
            },
            "baxis": {
             "endlinecolor": "#2a3f5f",
             "gridcolor": "white",
             "linecolor": "white",
             "minorgridcolor": "white",
             "startlinecolor": "#2a3f5f"
            },
            "type": "carpet"
           }
          ],
          "choropleth": [
           {
            "colorbar": {
             "outlinewidth": 0,
             "ticks": ""
            },
            "type": "choropleth"
           }
          ],
          "contour": [
           {
            "colorbar": {
             "outlinewidth": 0,
             "ticks": ""
            },
            "colorscale": [
             [
              0,
              "#0d0887"
             ],
             [
              0.1111111111111111,
              "#46039f"
             ],
             [
              0.2222222222222222,
              "#7201a8"
             ],
             [
              0.3333333333333333,
              "#9c179e"
             ],
             [
              0.4444444444444444,
              "#bd3786"
             ],
             [
              0.5555555555555556,
              "#d8576b"
             ],
             [
              0.6666666666666666,
              "#ed7953"
             ],
             [
              0.7777777777777778,
              "#fb9f3a"
             ],
             [
              0.8888888888888888,
              "#fdca26"
             ],
             [
              1,
              "#f0f921"
             ]
            ],
            "type": "contour"
           }
          ],
          "contourcarpet": [
           {
            "colorbar": {
             "outlinewidth": 0,
             "ticks": ""
            },
            "type": "contourcarpet"
           }
          ],
          "heatmap": [
           {
            "colorbar": {
             "outlinewidth": 0,
             "ticks": ""
            },
            "colorscale": [
             [
              0,
              "#0d0887"
             ],
             [
              0.1111111111111111,
              "#46039f"
             ],
             [
              0.2222222222222222,
              "#7201a8"
             ],
             [
              0.3333333333333333,
              "#9c179e"
             ],
             [
              0.4444444444444444,
              "#bd3786"
             ],
             [
              0.5555555555555556,
              "#d8576b"
             ],
             [
              0.6666666666666666,
              "#ed7953"
             ],
             [
              0.7777777777777778,
              "#fb9f3a"
             ],
             [
              0.8888888888888888,
              "#fdca26"
             ],
             [
              1,
              "#f0f921"
             ]
            ],
            "type": "heatmap"
           }
          ],
          "heatmapgl": [
           {
            "colorbar": {
             "outlinewidth": 0,
             "ticks": ""
            },
            "colorscale": [
             [
              0,
              "#0d0887"
             ],
             [
              0.1111111111111111,
              "#46039f"
             ],
             [
              0.2222222222222222,
              "#7201a8"
             ],
             [
              0.3333333333333333,
              "#9c179e"
             ],
             [
              0.4444444444444444,
              "#bd3786"
             ],
             [
              0.5555555555555556,
              "#d8576b"
             ],
             [
              0.6666666666666666,
              "#ed7953"
             ],
             [
              0.7777777777777778,
              "#fb9f3a"
             ],
             [
              0.8888888888888888,
              "#fdca26"
             ],
             [
              1,
              "#f0f921"
             ]
            ],
            "type": "heatmapgl"
           }
          ],
          "histogram": [
           {
            "marker": {
             "pattern": {
              "fillmode": "overlay",
              "size": 10,
              "solidity": 0.2
             }
            },
            "type": "histogram"
           }
          ],
          "histogram2d": [
           {
            "colorbar": {
             "outlinewidth": 0,
             "ticks": ""
            },
            "colorscale": [
             [
              0,
              "#0d0887"
             ],
             [
              0.1111111111111111,
              "#46039f"
             ],
             [
              0.2222222222222222,
              "#7201a8"
             ],
             [
              0.3333333333333333,
              "#9c179e"
             ],
             [
              0.4444444444444444,
              "#bd3786"
             ],
             [
              0.5555555555555556,
              "#d8576b"
             ],
             [
              0.6666666666666666,
              "#ed7953"
             ],
             [
              0.7777777777777778,
              "#fb9f3a"
             ],
             [
              0.8888888888888888,
              "#fdca26"
             ],
             [
              1,
              "#f0f921"
             ]
            ],
            "type": "histogram2d"
           }
          ],
          "histogram2dcontour": [
           {
            "colorbar": {
             "outlinewidth": 0,
             "ticks": ""
            },
            "colorscale": [
             [
              0,
              "#0d0887"
             ],
             [
              0.1111111111111111,
              "#46039f"
             ],
             [
              0.2222222222222222,
              "#7201a8"
             ],
             [
              0.3333333333333333,
              "#9c179e"
             ],
             [
              0.4444444444444444,
              "#bd3786"
             ],
             [
              0.5555555555555556,
              "#d8576b"
             ],
             [
              0.6666666666666666,
              "#ed7953"
             ],
             [
              0.7777777777777778,
              "#fb9f3a"
             ],
             [
              0.8888888888888888,
              "#fdca26"
             ],
             [
              1,
              "#f0f921"
             ]
            ],
            "type": "histogram2dcontour"
           }
          ],
          "mesh3d": [
           {
            "colorbar": {
             "outlinewidth": 0,
             "ticks": ""
            },
            "type": "mesh3d"
           }
          ],
          "parcoords": [
           {
            "line": {
             "colorbar": {
              "outlinewidth": 0,
              "ticks": ""
             }
            },
            "type": "parcoords"
           }
          ],
          "pie": [
           {
            "automargin": true,
            "type": "pie"
           }
          ],
          "scatter": [
           {
            "fillpattern": {
             "fillmode": "overlay",
             "size": 10,
             "solidity": 0.2
            },
            "type": "scatter"
           }
          ],
          "scatter3d": [
           {
            "line": {
             "colorbar": {
              "outlinewidth": 0,
              "ticks": ""
             }
            },
            "marker": {
             "colorbar": {
              "outlinewidth": 0,
              "ticks": ""
             }
            },
            "type": "scatter3d"
           }
          ],
          "scattercarpet": [
           {
            "marker": {
             "colorbar": {
              "outlinewidth": 0,
              "ticks": ""
             }
            },
            "type": "scattercarpet"
           }
          ],
          "scattergeo": [
           {
            "marker": {
             "colorbar": {
              "outlinewidth": 0,
              "ticks": ""
             }
            },
            "type": "scattergeo"
           }
          ],
          "scattergl": [
           {
            "marker": {
             "colorbar": {
              "outlinewidth": 0,
              "ticks": ""
             }
            },
            "type": "scattergl"
           }
          ],
          "scattermapbox": [
           {
            "marker": {
             "colorbar": {
              "outlinewidth": 0,
              "ticks": ""
             }
            },
            "type": "scattermapbox"
           }
          ],
          "scatterpolar": [
           {
            "marker": {
             "colorbar": {
              "outlinewidth": 0,
              "ticks": ""
             }
            },
            "type": "scatterpolar"
           }
          ],
          "scatterpolargl": [
           {
            "marker": {
             "colorbar": {
              "outlinewidth": 0,
              "ticks": ""
             }
            },
            "type": "scatterpolargl"
           }
          ],
          "scatterternary": [
           {
            "marker": {
             "colorbar": {
              "outlinewidth": 0,
              "ticks": ""
             }
            },
            "type": "scatterternary"
           }
          ],
          "surface": [
           {
            "colorbar": {
             "outlinewidth": 0,
             "ticks": ""
            },
            "colorscale": [
             [
              0,
              "#0d0887"
             ],
             [
              0.1111111111111111,
              "#46039f"
             ],
             [
              0.2222222222222222,
              "#7201a8"
             ],
             [
              0.3333333333333333,
              "#9c179e"
             ],
             [
              0.4444444444444444,
              "#bd3786"
             ],
             [
              0.5555555555555556,
              "#d8576b"
             ],
             [
              0.6666666666666666,
              "#ed7953"
             ],
             [
              0.7777777777777778,
              "#fb9f3a"
             ],
             [
              0.8888888888888888,
              "#fdca26"
             ],
             [
              1,
              "#f0f921"
             ]
            ],
            "type": "surface"
           }
          ],
          "table": [
           {
            "cells": {
             "fill": {
              "color": "#EBF0F8"
             },
             "line": {
              "color": "white"
             }
            },
            "header": {
             "fill": {
              "color": "#C8D4E3"
             },
             "line": {
              "color": "white"
             }
            },
            "type": "table"
           }
          ]
         },
         "layout": {
          "annotationdefaults": {
           "arrowcolor": "#2a3f5f",
           "arrowhead": 0,
           "arrowwidth": 1
          },
          "autotypenumbers": "strict",
          "coloraxis": {
           "colorbar": {
            "outlinewidth": 0,
            "ticks": ""
           }
          },
          "colorscale": {
           "diverging": [
            [
             0,
             "#8e0152"
            ],
            [
             0.1,
             "#c51b7d"
            ],
            [
             0.2,
             "#de77ae"
            ],
            [
             0.3,
             "#f1b6da"
            ],
            [
             0.4,
             "#fde0ef"
            ],
            [
             0.5,
             "#f7f7f7"
            ],
            [
             0.6,
             "#e6f5d0"
            ],
            [
             0.7,
             "#b8e186"
            ],
            [
             0.8,
             "#7fbc41"
            ],
            [
             0.9,
             "#4d9221"
            ],
            [
             1,
             "#276419"
            ]
           ],
           "sequential": [
            [
             0,
             "#0d0887"
            ],
            [
             0.1111111111111111,
             "#46039f"
            ],
            [
             0.2222222222222222,
             "#7201a8"
            ],
            [
             0.3333333333333333,
             "#9c179e"
            ],
            [
             0.4444444444444444,
             "#bd3786"
            ],
            [
             0.5555555555555556,
             "#d8576b"
            ],
            [
             0.6666666666666666,
             "#ed7953"
            ],
            [
             0.7777777777777778,
             "#fb9f3a"
            ],
            [
             0.8888888888888888,
             "#fdca26"
            ],
            [
             1,
             "#f0f921"
            ]
           ],
           "sequentialminus": [
            [
             0,
             "#0d0887"
            ],
            [
             0.1111111111111111,
             "#46039f"
            ],
            [
             0.2222222222222222,
             "#7201a8"
            ],
            [
             0.3333333333333333,
             "#9c179e"
            ],
            [
             0.4444444444444444,
             "#bd3786"
            ],
            [
             0.5555555555555556,
             "#d8576b"
            ],
            [
             0.6666666666666666,
             "#ed7953"
            ],
            [
             0.7777777777777778,
             "#fb9f3a"
            ],
            [
             0.8888888888888888,
             "#fdca26"
            ],
            [
             1,
             "#f0f921"
            ]
           ]
          },
          "colorway": [
           "#636efa",
           "#EF553B",
           "#00cc96",
           "#ab63fa",
           "#FFA15A",
           "#19d3f3",
           "#FF6692",
           "#B6E880",
           "#FF97FF",
           "#FECB52"
          ],
          "font": {
           "color": "#2a3f5f"
          },
          "geo": {
           "bgcolor": "white",
           "lakecolor": "white",
           "landcolor": "#E5ECF6",
           "showlakes": true,
           "showland": true,
           "subunitcolor": "white"
          },
          "hoverlabel": {
           "align": "left"
          },
          "hovermode": "closest",
          "mapbox": {
           "style": "light"
          },
          "paper_bgcolor": "white",
          "plot_bgcolor": "#E5ECF6",
          "polar": {
           "angularaxis": {
            "gridcolor": "white",
            "linecolor": "white",
            "ticks": ""
           },
           "bgcolor": "#E5ECF6",
           "radialaxis": {
            "gridcolor": "white",
            "linecolor": "white",
            "ticks": ""
           }
          },
          "scene": {
           "xaxis": {
            "backgroundcolor": "#E5ECF6",
            "gridcolor": "white",
            "gridwidth": 2,
            "linecolor": "white",
            "showbackground": true,
            "ticks": "",
            "zerolinecolor": "white"
           },
           "yaxis": {
            "backgroundcolor": "#E5ECF6",
            "gridcolor": "white",
            "gridwidth": 2,
            "linecolor": "white",
            "showbackground": true,
            "ticks": "",
            "zerolinecolor": "white"
           },
           "zaxis": {
            "backgroundcolor": "#E5ECF6",
            "gridcolor": "white",
            "gridwidth": 2,
            "linecolor": "white",
            "showbackground": true,
            "ticks": "",
            "zerolinecolor": "white"
           }
          },
          "shapedefaults": {
           "line": {
            "color": "#2a3f5f"
           }
          },
          "ternary": {
           "aaxis": {
            "gridcolor": "white",
            "linecolor": "white",
            "ticks": ""
           },
           "baxis": {
            "gridcolor": "white",
            "linecolor": "white",
            "ticks": ""
           },
           "bgcolor": "#E5ECF6",
           "caxis": {
            "gridcolor": "white",
            "linecolor": "white",
            "ticks": ""
           }
          },
          "title": {
           "x": 0.05
          },
          "xaxis": {
           "automargin": true,
           "gridcolor": "white",
           "linecolor": "white",
           "ticks": "",
           "title": {
            "standoff": 15
           },
           "zerolinecolor": "white",
           "zerolinewidth": 2
          },
          "yaxis": {
           "automargin": true,
           "gridcolor": "white",
           "linecolor": "white",
           "ticks": "",
           "title": {
            "standoff": 15
           },
           "zerolinecolor": "white",
           "zerolinewidth": 2
          }
         }
        },
        "title": {
         "text": "Operacje"
        },
        "xaxis": {
         "anchor": "y",
         "domain": [
          0,
          1
         ],
         "type": "date"
        },
        "yaxis": {
         "anchor": "x",
         "domain": [
          0,
          1
         ],
         "title": {
          "text": "Operacja"
         }
        }
       }
      }
     },
     "metadata": {},
     "output_type": "display_data"
    }
   ],
   "source": [
    "fig = px.timeline(tabela_operacje, x_start=\"Start\", x_end=\"End\", y=\"Operacja\", color=\"Zamowienie\",title=\"Operacje\", hover_data=[\"Produkt\"])\n",
    "# fig.update_yaxes(autorange=\"reversed\")\n",
    "fig.show()"
   ]
  },
  {
   "cell_type": "code",
   "execution_count": null,
   "metadata": {},
   "outputs": [],
   "source": []
  }
 ],
 "metadata": {
  "kernelspec": {
   "display_name": "venv",
   "language": "python",
   "name": "python3"
  },
  "language_info": {
   "codemirror_mode": {
    "name": "ipython",
    "version": 3
   },
   "file_extension": ".py",
   "mimetype": "text/x-python",
   "name": "python",
   "nbconvert_exporter": "python",
   "pygments_lexer": "ipython3",
   "version": "3.10.6"
  },
  "orig_nbformat": 4
 },
 "nbformat": 4,
 "nbformat_minor": 2
}
